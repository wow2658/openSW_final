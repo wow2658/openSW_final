{
 "cells": [
  {
   "cell_type": "code",
   "execution_count": 65,
   "metadata": {},
   "outputs": [
    {
     "name": "stdout",
     "output_type": "stream",
     "text": [
      "Matplotlib version 3.3.4\n"
     ]
    }
   ],
   "source": [
    "import pandas as pd\n",
    "import matplotlib.pyplot as plt\n",
    "import matplotlib.font_manager as fm\n",
    "import matplotlib\n",
    "\n",
    "print(\"Matplotlib version\", matplotlib.__version__)\n",
    "%matplotlib inline\n",
    "%config InlineBackend.figure_format = 'retina'"
   ]
  },
  {
   "cell_type": "code",
   "execution_count": 66,
   "metadata": {},
   "outputs": [
    {
     "name": "stdout",
     "output_type": "stream",
     "text": [
      "설치가 되었습니다.\n"
     ]
    }
   ],
   "source": [
    "%config InlineBackend.figure_format = 'retina'\n",
    "sys_font=fm.findSystemFonts()\n",
    "path = './NanumGothic.ttf'  # 그래프 오류로 인한 글꼴 설치\n",
    "font_name = fm.FontProperties(fname=path, size=10).get_name()\n",
    "plt.rc('font', family=font_name)\n",
    "matplotlib.font_manager._rebuild()\n",
    "print('설치가 되었습니다.')"
   ]
  },
  {
   "cell_type": "code",
   "execution_count": 67,
   "metadata": {},
   "outputs": [],
   "source": [
    "df = pd.read_csv('./ccbread_data.csv', low_memory=False, dtype={'건물소유구분명': object, '전통업소지정번호': object}) \n",
    "#Warning 없애기 위해서 추가"
   ]
  },
  {
   "cell_type": "code",
   "execution_count": 68,
   "metadata": {},
   "outputs": [
    {
     "data": {
      "text/html": [
       "<div>\n",
       "<style scoped>\n",
       "    .dataframe tbody tr th:only-of-type {\n",
       "        vertical-align: middle;\n",
       "    }\n",
       "\n",
       "    .dataframe tbody tr th {\n",
       "        vertical-align: top;\n",
       "    }\n",
       "\n",
       "    .dataframe thead th {\n",
       "        text-align: right;\n",
       "    }\n",
       "</style>\n",
       "<table border=\"1\" class=\"dataframe\">\n",
       "  <thead>\n",
       "    <tr style=\"text-align: right;\">\n",
       "      <th></th>\n",
       "      <th>index</th>\n",
       "      <th>0</th>\n",
       "    </tr>\n",
       "  </thead>\n",
       "  <tbody>\n",
       "    <tr>\n",
       "      <th>0</th>\n",
       "      <td>번호</td>\n",
       "      <td>int64</td>\n",
       "    </tr>\n",
       "    <tr>\n",
       "      <th>1</th>\n",
       "      <td>개방서비스명</td>\n",
       "      <td>object</td>\n",
       "    </tr>\n",
       "    <tr>\n",
       "      <th>2</th>\n",
       "      <td>개방서비스id</td>\n",
       "      <td>object</td>\n",
       "    </tr>\n",
       "    <tr>\n",
       "      <th>3</th>\n",
       "      <td>개방자치단체코드</td>\n",
       "      <td>int64</td>\n",
       "    </tr>\n",
       "    <tr>\n",
       "      <th>4</th>\n",
       "      <td>관리번호</td>\n",
       "      <td>object</td>\n",
       "    </tr>\n",
       "  </tbody>\n",
       "</table>\n",
       "</div>"
      ],
      "text/plain": [
       "      index       0\n",
       "0        번호   int64\n",
       "1    개방서비스명  object\n",
       "2   개방서비스id  object\n",
       "3  개방자치단체코드   int64\n",
       "4      관리번호  object"
      ]
     },
     "execution_count": 68,
     "metadata": {},
     "output_type": "execute_result"
    }
   ],
   "source": [
    "df.dtypes.to_frame().reset_index().head()"
   ]
  },
  {
   "cell_type": "code",
   "execution_count": 69,
   "metadata": {},
   "outputs": [
    {
     "data": {
      "text/plain": [
       "(52680, 48)"
      ]
     },
     "execution_count": 69,
     "metadata": {},
     "output_type": "execute_result"
    }
   ],
   "source": [
    "df.shape # 행과 열의 개수를 확인"
   ]
  },
  {
   "cell_type": "code",
   "execution_count": 70,
   "metadata": {},
   "outputs": [
    {
     "data": {
      "text/html": [
       "<div>\n",
       "<style scoped>\n",
       "    .dataframe tbody tr th:only-of-type {\n",
       "        vertical-align: middle;\n",
       "    }\n",
       "\n",
       "    .dataframe tbody tr th {\n",
       "        vertical-align: top;\n",
       "    }\n",
       "\n",
       "    .dataframe thead th {\n",
       "        text-align: right;\n",
       "    }\n",
       "</style>\n",
       "<table border=\"1\" class=\"dataframe\">\n",
       "  <thead>\n",
       "    <tr style=\"text-align: right;\">\n",
       "      <th></th>\n",
       "      <th>번호</th>\n",
       "      <th>개방서비스명</th>\n",
       "      <th>개방서비스id</th>\n",
       "      <th>개방자치단체코드</th>\n",
       "      <th>관리번호</th>\n",
       "      <th>인허가일자</th>\n",
       "      <th>인허가취소일자</th>\n",
       "      <th>영업상태구분코드</th>\n",
       "      <th>영업상태명</th>\n",
       "      <th>상세영업상태코드</th>\n",
       "      <th>...</th>\n",
       "      <th>공장생산직종업원수</th>\n",
       "      <th>건물소유구분명</th>\n",
       "      <th>보증액</th>\n",
       "      <th>월세액</th>\n",
       "      <th>다중이용업소여부</th>\n",
       "      <th>시설총규모</th>\n",
       "      <th>전통업소지정번호</th>\n",
       "      <th>전통업소주된음식</th>\n",
       "      <th>홈페이지</th>\n",
       "      <th>Unnamed: 47</th>\n",
       "    </tr>\n",
       "  </thead>\n",
       "  <tbody>\n",
       "    <tr>\n",
       "      <th>0</th>\n",
       "      <td>1</td>\n",
       "      <td>제과점영업</td>\n",
       "      <td>07_22_18_P</td>\n",
       "      <td>3600000</td>\n",
       "      <td>3600000-121-2013-00002</td>\n",
       "      <td>20130201</td>\n",
       "      <td>NaN</td>\n",
       "      <td>1</td>\n",
       "      <td>영업/정상</td>\n",
       "      <td>1</td>\n",
       "      <td>...</td>\n",
       "      <td>NaN</td>\n",
       "      <td>NaN</td>\n",
       "      <td>NaN</td>\n",
       "      <td>NaN</td>\n",
       "      <td>N</td>\n",
       "      <td>146.4</td>\n",
       "      <td>NaN</td>\n",
       "      <td>NaN</td>\n",
       "      <td>NaN</td>\n",
       "      <td>NaN</td>\n",
       "    </tr>\n",
       "  </tbody>\n",
       "</table>\n",
       "<p>1 rows × 48 columns</p>\n",
       "</div>"
      ],
      "text/plain": [
       "   번호 개방서비스명     개방서비스id  개방자치단체코드                    관리번호     인허가일자  인허가취소일자  \\\n",
       "0   1  제과점영업  07_22_18_P   3600000  3600000-121-2013-00002  20130201      NaN   \n",
       "\n",
       "   영업상태구분코드  영업상태명  상세영업상태코드  ... 공장생산직종업원수  건물소유구분명  보증액  월세액  다중이용업소여부  \\\n",
       "0         1  영업/정상         1  ...       NaN      NaN  NaN  NaN         N   \n",
       "\n",
       "   시설총규모 전통업소지정번호  전통업소주된음식 홈페이지 Unnamed: 47  \n",
       "0  146.4      NaN       NaN  NaN         NaN  \n",
       "\n",
       "[1 rows x 48 columns]"
      ]
     },
     "execution_count": 70,
     "metadata": {},
     "output_type": "execute_result"
    }
   ],
   "source": [
    "df.head(1) # df의 첫번째 1열만 출력해서 확인"
   ]
  },
  {
   "cell_type": "code",
   "execution_count": 71,
   "metadata": {},
   "outputs": [
    {
     "name": "stdout",
     "output_type": "stream",
     "text": [
      "<class 'pandas.core.frame.DataFrame'>\n",
      "RangeIndex: 52680 entries, 0 to 52679\n",
      "Data columns (total 48 columns):\n",
      " #   Column       Non-Null Count  Dtype  \n",
      "---  ------       --------------  -----  \n",
      " 0   번호           52680 non-null  int64  \n",
      " 1   개방서비스명       52680 non-null  object \n",
      " 2   개방서비스id      52680 non-null  object \n",
      " 3   개방자치단체코드     52680 non-null  int64  \n",
      " 4   관리번호         52680 non-null  object \n",
      " 5   인허가일자        52680 non-null  int64  \n",
      " 6   인허가취소일자      0 non-null      float64\n",
      " 7   영업상태구분코드     52680 non-null  int64  \n",
      " 8   영업상태명        52680 non-null  object \n",
      " 9   상세영업상태코드     52680 non-null  int64  \n",
      " 10  상세영업상태명      52680 non-null  object \n",
      " 11  폐업일자         33669 non-null  float64\n",
      " 12  휴업시작일자       0 non-null      float64\n",
      " 13  휴업종료일자       0 non-null      float64\n",
      " 14  재개업일자        0 non-null      float64\n",
      " 15  소재지전화        31967 non-null  object \n",
      " 16  소재지면적        49047 non-null  object \n",
      " 17  소재지우편번호      50885 non-null  float64\n",
      " 18  소재지전체주소      52513 non-null  object \n",
      " 19  도로명전체주소      36164 non-null  object \n",
      " 20  도로명우편번호      35635 non-null  float64\n",
      " 21  사업장명         52680 non-null  object \n",
      " 22  최종수정시점       52680 non-null  int64  \n",
      " 23  데이터갱신구분      52680 non-null  object \n",
      " 24  데이터갱신일자      52680 non-null  object \n",
      " 25  업태구분명        52674 non-null  object \n",
      " 26  좌표정보(x)      50416 non-null  float64\n",
      " 27  좌표정보(y)      50416 non-null  float64\n",
      " 28  위생업태명        52674 non-null  object \n",
      " 29  남성종사자수       20271 non-null  float64\n",
      " 30  여성종사자수       20497 non-null  float64\n",
      " 31  영업장주변구분명     16935 non-null  object \n",
      " 32  등급구분명        7430 non-null   object \n",
      " 33  급수시설구분명      32427 non-null  object \n",
      " 34  총종업원수        1003 non-null   float64\n",
      " 35  본사종업원수       1838 non-null   float64\n",
      " 36  공장사무직종업원수    1838 non-null   float64\n",
      " 37  공장판매직종업원수    1838 non-null   float64\n",
      " 38  공장생산직종업원수    1838 non-null   float64\n",
      " 39  건물소유구분명      9 non-null      object \n",
      " 40  보증액          1836 non-null   float64\n",
      " 41  월세액          1836 non-null   float64\n",
      " 42  다중이용업소여부     52680 non-null  object \n",
      " 43  시설총규모        52680 non-null  float64\n",
      " 44  전통업소지정번호     64 non-null     object \n",
      " 45  전통업소주된음식     0 non-null      float64\n",
      " 46  홈페이지         0 non-null      float64\n",
      " 47  Unnamed: 47  0 non-null      float64\n",
      "dtypes: float64(22), int64(6), object(20)\n",
      "memory usage: 85.2 MB\n"
     ]
    }
   ],
   "source": [
    "df.info(memory_usage='deep') # 메모리 사용량 확인"
   ]
  },
  {
   "cell_type": "code",
   "execution_count": 72,
   "metadata": {},
   "outputs": [
    {
     "data": {
      "text/plain": [
       "폐업    33669\n",
       "영업    19011\n",
       "Name: 상세영업상태명, dtype: int64"
      ]
     },
     "execution_count": 72,
     "metadata": {},
     "output_type": "execute_result"
    }
   ],
   "source": [
    "df['상세영업상태명'].value_counts() # 영업상태 데이터를 뽑아온다."
   ]
  },
  {
   "cell_type": "code",
   "execution_count": 73,
   "metadata": {},
   "outputs": [
    {
     "data": {
      "text/plain": [
       "폐업    0.639123\n",
       "영업    0.360877\n",
       "Name: 상세영업상태명, dtype: float64"
      ]
     },
     "execution_count": 73,
     "metadata": {},
     "output_type": "execute_result"
    }
   ],
   "source": [
    "df['상세영업상태명'].value_counts(normalize=True, dropna=False) # 폐업률 확인"
   ]
  },
  {
   "cell_type": "code",
   "execution_count": 74,
   "metadata": {},
   "outputs": [
    {
     "data": {
      "text/plain": [
       "2    33669\n",
       "1    19011\n",
       "Name: 상세영업상태코드, dtype: int64"
      ]
     },
     "execution_count": 74,
     "metadata": {},
     "output_type": "execute_result"
    }
   ],
   "source": [
    "df['상세영업상태코드'].value_counts()   # 1: 영업, 2: 폐업"
   ]
  },
  {
   "cell_type": "code",
   "execution_count": 75,
   "metadata": {},
   "outputs": [
    {
     "data": {
      "text/html": [
       "<div>\n",
       "<style scoped>\n",
       "    .dataframe tbody tr th:only-of-type {\n",
       "        vertical-align: middle;\n",
       "    }\n",
       "\n",
       "    .dataframe tbody tr th {\n",
       "        vertical-align: top;\n",
       "    }\n",
       "\n",
       "    .dataframe thead th {\n",
       "        text-align: right;\n",
       "    }\n",
       "</style>\n",
       "<table border=\"1\" class=\"dataframe\">\n",
       "  <thead>\n",
       "    <tr style=\"text-align: right;\">\n",
       "      <th></th>\n",
       "      <th>인허가일자</th>\n",
       "      <th>상세영업상태코드</th>\n",
       "      <th>폐업일자</th>\n",
       "      <th>소재지전체주소</th>\n",
       "      <th>사업장명</th>\n",
       "      <th>업태구분명</th>\n",
       "    </tr>\n",
       "  </thead>\n",
       "  <tbody>\n",
       "    <tr>\n",
       "      <th>0</th>\n",
       "      <td>20130201</td>\n",
       "      <td>1</td>\n",
       "      <td>NaN</td>\n",
       "      <td>광주광역시 서구 치평동 1177-2번지 (106,107호)</td>\n",
       "      <td>뚜레쥬르상무역점</td>\n",
       "      <td>제과점영업</td>\n",
       "    </tr>\n",
       "    <tr>\n",
       "      <th>1</th>\n",
       "      <td>20130318</td>\n",
       "      <td>1</td>\n",
       "      <td>NaN</td>\n",
       "      <td>광주광역시 서구 유촌동 868-1번지 (102호)</td>\n",
       "      <td>뚜레쥬르광주버들마을점</td>\n",
       "      <td>제과점영업</td>\n",
       "    </tr>\n",
       "    <tr>\n",
       "      <th>2</th>\n",
       "      <td>20130417</td>\n",
       "      <td>1</td>\n",
       "      <td>NaN</td>\n",
       "      <td>광주광역시 서구 화정동 1611번지 101호102호103호 상가2동</td>\n",
       "      <td>파리바게뜨화정현대점</td>\n",
       "      <td>제과점영업</td>\n",
       "    </tr>\n",
       "  </tbody>\n",
       "</table>\n",
       "</div>"
      ],
      "text/plain": [
       "      인허가일자  상세영업상태코드  폐업일자                                소재지전체주소  \\\n",
       "0  20130201         1   NaN       광주광역시 서구 치평동 1177-2번지 (106,107호)   \n",
       "1  20130318         1   NaN            광주광역시 서구 유촌동 868-1번지 (102호)   \n",
       "2  20130417         1   NaN  광주광역시 서구 화정동 1611번지 101호102호103호 상가2동   \n",
       "\n",
       "          사업장명  업태구분명  \n",
       "0     뚜레쥬르상무역점  제과점영업  \n",
       "1  뚜레쥬르광주버들마을점  제과점영업  \n",
       "2   파리바게뜨화정현대점  제과점영업  "
      ]
     },
     "execution_count": 75,
     "metadata": {},
     "output_type": "execute_result"
    }
   ],
   "source": [
    "bread = df[['인허가일자', '상세영업상태코드', '폐업일자', '소재지전체주소', '사업장명', '업태구분명']] #필요한 데이터만 필터링\n",
    "bread.head(3)"
   ]
  },
  {
   "cell_type": "code",
   "execution_count": 76,
   "metadata": {},
   "outputs": [
    {
     "data": {
      "text/plain": [
       "0        광주광역시\n",
       "1        광주광역시\n",
       "2        광주광역시\n",
       "3        광주광역시\n",
       "4        광주광역시\n",
       "         ...  \n",
       "52675    울산광역시\n",
       "52676    광주광역시\n",
       "52677    부산광역시\n",
       "52678      경기도\n",
       "52679      경기도\n",
       "Name: 소재지전체주소, Length: 52680, dtype: object"
      ]
     },
     "execution_count": 76,
     "metadata": {},
     "output_type": "execute_result"
    }
   ],
   "source": [
    "bread['소재지전체주소'].str.split().str[0] # 주소의 시/도 정보를 추출"
   ]
  },
  {
   "cell_type": "code",
   "execution_count": 77,
   "metadata": {},
   "outputs": [
    {
     "data": {
      "text/plain": [
       "제과점영업    52653\n",
       "푸드트럭        16\n",
       "NaN          6\n",
       "룸살롱          1\n",
       "과자점          1\n",
       "기타           1\n",
       "분식           1\n",
       "한식           1\n",
       "Name: 업태구분명, dtype: int64"
      ]
     },
     "execution_count": 77,
     "metadata": {},
     "output_type": "execute_result"
    }
   ],
   "source": [
    "bread['업태구분명'].value_counts(dropna=False)"
   ]
  },
  {
   "cell_type": "code",
   "execution_count": 78,
   "metadata": {},
   "outputs": [
    {
     "data": {
      "text/html": [
       "<div>\n",
       "<style scoped>\n",
       "    .dataframe tbody tr th:only-of-type {\n",
       "        vertical-align: middle;\n",
       "    }\n",
       "\n",
       "    .dataframe tbody tr th {\n",
       "        vertical-align: top;\n",
       "    }\n",
       "\n",
       "    .dataframe thead th {\n",
       "        text-align: right;\n",
       "    }\n",
       "</style>\n",
       "<table border=\"1\" class=\"dataframe\">\n",
       "  <thead>\n",
       "    <tr style=\"text-align: right;\">\n",
       "      <th></th>\n",
       "      <th>인허가일자</th>\n",
       "      <th>상세영업상태코드</th>\n",
       "      <th>폐업일자</th>\n",
       "      <th>소재지전체주소</th>\n",
       "      <th>사업장명</th>\n",
       "      <th>업태구분명</th>\n",
       "    </tr>\n",
       "  </thead>\n",
       "  <tbody>\n",
       "    <tr>\n",
       "      <th>1493</th>\n",
       "      <td>20190109</td>\n",
       "      <td>1</td>\n",
       "      <td>NaN</td>\n",
       "      <td>충청북도 청주시 상당구 서문동 157-14</td>\n",
       "      <td>홈플러스(주)베이커리행사매대</td>\n",
       "      <td>제과점영업</td>\n",
       "    </tr>\n",
       "    <tr>\n",
       "      <th>1505</th>\n",
       "      <td>20190214</td>\n",
       "      <td>1</td>\n",
       "      <td>NaN</td>\n",
       "      <td>충청북도 청주시 청원구 주중동 1054번지 103호</td>\n",
       "      <td>미쓰콩</td>\n",
       "      <td>제과점영업</td>\n",
       "    </tr>\n",
       "    <tr>\n",
       "      <th>3998</th>\n",
       "      <td>20190521</td>\n",
       "      <td>1</td>\n",
       "      <td>NaN</td>\n",
       "      <td>충청북도 청주시 서원구 분평동 1258</td>\n",
       "      <td>파리바게뜨분평주은</td>\n",
       "      <td>제과점영업</td>\n",
       "    </tr>\n",
       "    <tr>\n",
       "      <th>4068</th>\n",
       "      <td>20190520</td>\n",
       "      <td>1</td>\n",
       "      <td>NaN</td>\n",
       "      <td>충청북도 청주시 상당구 수동 315-24번지 1층</td>\n",
       "      <td>종달새빵집</td>\n",
       "      <td>제과점영업</td>\n",
       "    </tr>\n",
       "  </tbody>\n",
       "</table>\n",
       "</div>"
      ],
      "text/plain": [
       "         인허가일자  상세영업상태코드  폐업일자                       소재지전체주소             사업장명  \\\n",
       "1493  20190109         1   NaN       충청북도 청주시 상당구 서문동 157-14  홈플러스(주)베이커리행사매대   \n",
       "1505  20190214         1   NaN  충청북도 청주시 청원구 주중동 1054번지 103호              미쓰콩   \n",
       "3998  20190521         1   NaN         충청북도 청주시 서원구 분평동 1258        파리바게뜨분평주은   \n",
       "4068  20190520         1   NaN   충청북도 청주시 상당구 수동 315-24번지 1층            종달새빵집   \n",
       "\n",
       "      업태구분명  \n",
       "1493  제과점영업  \n",
       "1505  제과점영업  \n",
       "3998  제과점영업  \n",
       "4068  제과점영업  "
      ]
     },
     "execution_count": 78,
     "metadata": {},
     "output_type": "execute_result"
    }
   ],
   "source": [
    "condition1 = bread['소재지전체주소'].str.split().str[1] == '청주시'\n",
    "condition2 = bread['업태구분명'] == '제과점영업'\n",
    "bread = bread[condition1 & condition2] # 청주시의 제과점영업만 추출\n",
    "bread.head(4) #샘플4개 확인"
   ]
  },
  {
   "cell_type": "code",
   "execution_count": 79,
   "metadata": {},
   "outputs": [
    {
     "name": "stdout",
     "output_type": "stream",
     "text": [
      "(52680, 48) (820, 6)\n"
     ]
    }
   ],
   "source": [
    "print(df.shape, bread.shape) # 전국 제과점에서 청주 제과점만 뽑아냈을때 행/열 정보 확인 "
   ]
  },
  {
   "cell_type": "code",
   "execution_count": 80,
   "metadata": {},
   "outputs": [
    {
     "data": {
      "text/plain": [
       "Index(['인허가일자', '상세영업상태코드', '폐업일자', '소재지전체주소', '사업장명', '업태구분명', '구명', '동명'], dtype='object')"
      ]
     },
     "execution_count": 80,
     "metadata": {},
     "output_type": "execute_result"
    }
   ],
   "source": [
    "bread['구명'] = bread['소재지전체주소'].str.split().str[2]\n",
    "bread['동명'] = bread['소재지전체주소'].str.split().str[3]\n",
    "bread.columns"
   ]
  },
  {
   "cell_type": "code",
   "execution_count": 81,
   "metadata": {},
   "outputs": [
    {
     "data": {
      "text/html": [
       "<div>\n",
       "<style scoped>\n",
       "    .dataframe tbody tr th:only-of-type {\n",
       "        vertical-align: middle;\n",
       "    }\n",
       "\n",
       "    .dataframe tbody tr th {\n",
       "        vertical-align: top;\n",
       "    }\n",
       "\n",
       "    .dataframe thead th {\n",
       "        text-align: right;\n",
       "    }\n",
       "</style>\n",
       "<table border=\"1\" class=\"dataframe\">\n",
       "  <thead>\n",
       "    <tr style=\"text-align: right;\">\n",
       "      <th></th>\n",
       "      <th>인허가일자</th>\n",
       "      <th>상세영업상태코드</th>\n",
       "      <th>폐업일자</th>\n",
       "      <th>소재지전체주소</th>\n",
       "      <th>사업장명</th>\n",
       "      <th>업태구분명</th>\n",
       "      <th>구명</th>\n",
       "      <th>동명</th>\n",
       "    </tr>\n",
       "  </thead>\n",
       "  <tbody>\n",
       "    <tr>\n",
       "      <th>1493</th>\n",
       "      <td>20190109</td>\n",
       "      <td>1</td>\n",
       "      <td>NaN</td>\n",
       "      <td>충청북도 청주시 상당구 서문동 157-14</td>\n",
       "      <td>홈플러스(주)베이커리행사매대</td>\n",
       "      <td>제과점영업</td>\n",
       "      <td>상당구</td>\n",
       "      <td>서문동</td>\n",
       "    </tr>\n",
       "    <tr>\n",
       "      <th>1505</th>\n",
       "      <td>20190214</td>\n",
       "      <td>1</td>\n",
       "      <td>NaN</td>\n",
       "      <td>충청북도 청주시 청원구 주중동 1054번지 103호</td>\n",
       "      <td>미쓰콩</td>\n",
       "      <td>제과점영업</td>\n",
       "      <td>청원구</td>\n",
       "      <td>주중동</td>\n",
       "    </tr>\n",
       "    <tr>\n",
       "      <th>3998</th>\n",
       "      <td>20190521</td>\n",
       "      <td>1</td>\n",
       "      <td>NaN</td>\n",
       "      <td>충청북도 청주시 서원구 분평동 1258</td>\n",
       "      <td>파리바게뜨분평주은</td>\n",
       "      <td>제과점영업</td>\n",
       "      <td>서원구</td>\n",
       "      <td>분평동</td>\n",
       "    </tr>\n",
       "  </tbody>\n",
       "</table>\n",
       "</div>"
      ],
      "text/plain": [
       "         인허가일자  상세영업상태코드  폐업일자                       소재지전체주소             사업장명  \\\n",
       "1493  20190109         1   NaN       충청북도 청주시 상당구 서문동 157-14  홈플러스(주)베이커리행사매대   \n",
       "1505  20190214         1   NaN  충청북도 청주시 청원구 주중동 1054번지 103호              미쓰콩   \n",
       "3998  20190521         1   NaN         충청북도 청주시 서원구 분평동 1258        파리바게뜨분평주은   \n",
       "\n",
       "      업태구분명   구명   동명  \n",
       "1493  제과점영업  상당구  서문동  \n",
       "1505  제과점영업  청원구  주중동  \n",
       "3998  제과점영업  서원구  분평동  "
      ]
     },
     "execution_count": 81,
     "metadata": {},
     "output_type": "execute_result"
    }
   ],
   "source": [
    "bread.to_csv('ccbread_save.csv', index=False)\n",
    "bread.head(3) # 새로운 columns 추가된것을 확인"
   ]
  },
  {
   "cell_type": "code",
   "execution_count": 82,
   "metadata": {},
   "outputs": [
    {
     "data": {
      "text/plain": [
       "NaN    2\n",
       "dtype: int64"
      ]
     },
     "execution_count": 82,
     "metadata": {},
     "output_type": "execute_result"
    }
   ],
   "source": [
    "import numpy as np\n",
    "s = pd.Series([pd.NA, np.nan])\n",
    "s.value_counts(dropna=False)"
   ]
  },
  {
   "cell_type": "code",
   "execution_count": 83,
   "metadata": {},
   "outputs": [
    {
     "data": {
      "text/plain": [
       "인허가일자         0\n",
       "상세영업상태코드      0\n",
       "폐업일자        307\n",
       "소재지전체주소       0\n",
       "사업장명          0\n",
       "업태구분명         0\n",
       "구명            0\n",
       "동명            0\n",
       "dtype: int64"
      ]
     },
     "execution_count": 83,
     "metadata": {},
     "output_type": "execute_result"
    }
   ],
   "source": [
    "bread.isna().sum() # 각 columns별 결측치 개수 확인"
   ]
  },
  {
   "cell_type": "code",
   "execution_count": 84,
   "metadata": {},
   "outputs": [
    {
     "data": {
      "text/html": [
       "<div>\n",
       "<style scoped>\n",
       "    .dataframe tbody tr th:only-of-type {\n",
       "        vertical-align: middle;\n",
       "    }\n",
       "\n",
       "    .dataframe tbody tr th {\n",
       "        vertical-align: top;\n",
       "    }\n",
       "\n",
       "    .dataframe thead th {\n",
       "        text-align: right;\n",
       "    }\n",
       "</style>\n",
       "<table border=\"1\" class=\"dataframe\">\n",
       "  <thead>\n",
       "    <tr style=\"text-align: right;\">\n",
       "      <th></th>\n",
       "      <th>인허가일자</th>\n",
       "      <th>상세영업상태코드</th>\n",
       "      <th>폐업일자</th>\n",
       "      <th>소재지전체주소</th>\n",
       "      <th>사업장명</th>\n",
       "      <th>업태구분명</th>\n",
       "      <th>구명</th>\n",
       "      <th>동명</th>\n",
       "    </tr>\n",
       "  </thead>\n",
       "  <tbody>\n",
       "    <tr>\n",
       "      <th>1493</th>\n",
       "      <td>20190109</td>\n",
       "      <td>1</td>\n",
       "      <td>NaN</td>\n",
       "      <td>충청북도 청주시 상당구 서문동 157-14</td>\n",
       "      <td>홈플러스(주)베이커리행사매대</td>\n",
       "      <td>제과점영업</td>\n",
       "      <td>상당구</td>\n",
       "      <td>서문동</td>\n",
       "    </tr>\n",
       "    <tr>\n",
       "      <th>1505</th>\n",
       "      <td>20190214</td>\n",
       "      <td>1</td>\n",
       "      <td>NaN</td>\n",
       "      <td>충청북도 청주시 청원구 주중동 1054번지 103호</td>\n",
       "      <td>미쓰콩</td>\n",
       "      <td>제과점영업</td>\n",
       "      <td>청원구</td>\n",
       "      <td>주중동</td>\n",
       "    </tr>\n",
       "    <tr>\n",
       "      <th>3998</th>\n",
       "      <td>20190521</td>\n",
       "      <td>1</td>\n",
       "      <td>NaN</td>\n",
       "      <td>충청북도 청주시 서원구 분평동 1258</td>\n",
       "      <td>파리바게뜨분평주은</td>\n",
       "      <td>제과점영업</td>\n",
       "      <td>서원구</td>\n",
       "      <td>분평동</td>\n",
       "    </tr>\n",
       "    <tr>\n",
       "      <th>4068</th>\n",
       "      <td>20190520</td>\n",
       "      <td>1</td>\n",
       "      <td>NaN</td>\n",
       "      <td>충청북도 청주시 상당구 수동 315-24번지 1층</td>\n",
       "      <td>종달새빵집</td>\n",
       "      <td>제과점영업</td>\n",
       "      <td>상당구</td>\n",
       "      <td>수동</td>\n",
       "    </tr>\n",
       "    <tr>\n",
       "      <th>4087</th>\n",
       "      <td>20190513</td>\n",
       "      <td>1</td>\n",
       "      <td>NaN</td>\n",
       "      <td>충청북도 청주시 흥덕구 송절동 850번지 테크노폴리스우미린</td>\n",
       "      <td>뚜레쥬르 테크노폴리스점</td>\n",
       "      <td>제과점영업</td>\n",
       "      <td>흥덕구</td>\n",
       "      <td>송절동</td>\n",
       "    </tr>\n",
       "    <tr>\n",
       "      <th>...</th>\n",
       "      <td>...</td>\n",
       "      <td>...</td>\n",
       "      <td>...</td>\n",
       "      <td>...</td>\n",
       "      <td>...</td>\n",
       "      <td>...</td>\n",
       "      <td>...</td>\n",
       "      <td>...</td>\n",
       "    </tr>\n",
       "    <tr>\n",
       "      <th>18718</th>\n",
       "      <td>20201222</td>\n",
       "      <td>1</td>\n",
       "      <td>NaN</td>\n",
       "      <td>충청북도 청주시 흥덕구 봉명동 980-3</td>\n",
       "      <td>해피투유(happy to you)</td>\n",
       "      <td>제과점영업</td>\n",
       "      <td>흥덕구</td>\n",
       "      <td>봉명동</td>\n",
       "    </tr>\n",
       "    <tr>\n",
       "      <th>18719</th>\n",
       "      <td>20210104</td>\n",
       "      <td>1</td>\n",
       "      <td>NaN</td>\n",
       "      <td>충청북도 청주시 흥덕구 가경동 644-5</td>\n",
       "      <td>파리바게뜨 서현홍골지구점</td>\n",
       "      <td>제과점영업</td>\n",
       "      <td>흥덕구</td>\n",
       "      <td>가경동</td>\n",
       "    </tr>\n",
       "    <tr>\n",
       "      <th>18759</th>\n",
       "      <td>20201124</td>\n",
       "      <td>1</td>\n",
       "      <td>NaN</td>\n",
       "      <td>충청북도 청주시 흥덕구 가경동 383-7</td>\n",
       "      <td>그린브라우니 가경점</td>\n",
       "      <td>제과점영업</td>\n",
       "      <td>흥덕구</td>\n",
       "      <td>가경동</td>\n",
       "    </tr>\n",
       "    <tr>\n",
       "      <th>18833</th>\n",
       "      <td>20201229</td>\n",
       "      <td>1</td>\n",
       "      <td>NaN</td>\n",
       "      <td>충청북도 청주시 서원구 현도면 선동리 284-7 죽암(하)휴게소 1층</td>\n",
       "      <td>경주제과 죽암(부산)휴게소점</td>\n",
       "      <td>제과점영업</td>\n",
       "      <td>서원구</td>\n",
       "      <td>현도면</td>\n",
       "    </tr>\n",
       "    <tr>\n",
       "      <th>18839</th>\n",
       "      <td>20201218</td>\n",
       "      <td>1</td>\n",
       "      <td>NaN</td>\n",
       "      <td>충청북도 청주시 상당구 방서동 644-8</td>\n",
       "      <td>방서동디저트</td>\n",
       "      <td>제과점영업</td>\n",
       "      <td>상당구</td>\n",
       "      <td>방서동</td>\n",
       "    </tr>\n",
       "  </tbody>\n",
       "</table>\n",
       "<p>307 rows × 8 columns</p>\n",
       "</div>"
      ],
      "text/plain": [
       "          인허가일자  상세영업상태코드  폐업일자                                 소재지전체주소  \\\n",
       "1493   20190109         1   NaN                 충청북도 청주시 상당구 서문동 157-14   \n",
       "1505   20190214         1   NaN            충청북도 청주시 청원구 주중동 1054번지 103호   \n",
       "3998   20190521         1   NaN                   충청북도 청주시 서원구 분평동 1258   \n",
       "4068   20190520         1   NaN             충청북도 청주시 상당구 수동 315-24번지 1층   \n",
       "4087   20190513         1   NaN        충청북도 청주시 흥덕구 송절동 850번지 테크노폴리스우미린   \n",
       "...         ...       ...   ...                                     ...   \n",
       "18718  20201222         1   NaN                  충청북도 청주시 흥덕구 봉명동 980-3   \n",
       "18719  20210104         1   NaN                  충청북도 청주시 흥덕구 가경동 644-5   \n",
       "18759  20201124         1   NaN                  충청북도 청주시 흥덕구 가경동 383-7   \n",
       "18833  20201229         1   NaN  충청북도 청주시 서원구 현도면 선동리 284-7 죽암(하)휴게소 1층   \n",
       "18839  20201218         1   NaN                  충청북도 청주시 상당구 방서동 644-8   \n",
       "\n",
       "                     사업장명  업태구분명   구명   동명  \n",
       "1493      홈플러스(주)베이커리행사매대  제과점영업  상당구  서문동  \n",
       "1505                  미쓰콩  제과점영업  청원구  주중동  \n",
       "3998            파리바게뜨분평주은  제과점영업  서원구  분평동  \n",
       "4068                종달새빵집  제과점영업  상당구   수동  \n",
       "4087         뚜레쥬르 테크노폴리스점  제과점영업  흥덕구  송절동  \n",
       "...                   ...    ...  ...  ...  \n",
       "18718  해피투유(happy to you)  제과점영업  흥덕구  봉명동  \n",
       "18719       파리바게뜨 서현홍골지구점  제과점영업  흥덕구  가경동  \n",
       "18759          그린브라우니 가경점  제과점영업  흥덕구  가경동  \n",
       "18833     경주제과 죽암(부산)휴게소점  제과점영업  서원구  현도면  \n",
       "18839              방서동디저트  제과점영업  상당구  방서동  \n",
       "\n",
       "[307 rows x 8 columns]"
      ]
     },
     "execution_count": 84,
     "metadata": {},
     "output_type": "execute_result"
    }
   ],
   "source": [
    "bread[bread['폐업일자'].isna()] # 상태코드1은 영업 중을 의미. Nan을 그냥 놔두기에는 깔끔하지 못하다."
   ]
  },
  {
   "cell_type": "code",
   "execution_count": 85,
   "metadata": {},
   "outputs": [
    {
     "data": {
      "text/plain": [
       "인허가일자        int64\n",
       "상세영업상태코드     int64\n",
       "폐업일자         int64\n",
       "소재지전체주소     object\n",
       "사업장명        object\n",
       "업태구분명       object\n",
       "구명          object\n",
       "동명          object\n",
       "dtype: object"
      ]
     },
     "execution_count": 85,
     "metadata": {},
     "output_type": "execute_result"
    }
   ],
   "source": [
    "bread['폐업일자'] = bread['폐업일자'].fillna(0.0).astype('int64')\n",
    "bread.dtypes # 폐업일자 데이터 타입이 int64로 변하여"
   ]
  },
  {
   "cell_type": "code",
   "execution_count": 86,
   "metadata": {},
   "outputs": [
    {
     "data": {
      "text/html": [
       "<div>\n",
       "<style scoped>\n",
       "    .dataframe tbody tr th:only-of-type {\n",
       "        vertical-align: middle;\n",
       "    }\n",
       "\n",
       "    .dataframe tbody tr th {\n",
       "        vertical-align: top;\n",
       "    }\n",
       "\n",
       "    .dataframe thead th {\n",
       "        text-align: right;\n",
       "    }\n",
       "</style>\n",
       "<table border=\"1\" class=\"dataframe\">\n",
       "  <thead>\n",
       "    <tr style=\"text-align: right;\">\n",
       "      <th></th>\n",
       "      <th>인허가일자</th>\n",
       "      <th>상세영업상태코드</th>\n",
       "      <th>폐업일자</th>\n",
       "      <th>소재지전체주소</th>\n",
       "      <th>사업장명</th>\n",
       "      <th>업태구분명</th>\n",
       "      <th>구명</th>\n",
       "      <th>동명</th>\n",
       "    </tr>\n",
       "  </thead>\n",
       "  <tbody>\n",
       "    <tr>\n",
       "      <th>1493</th>\n",
       "      <td>20190109</td>\n",
       "      <td>1</td>\n",
       "      <td>0</td>\n",
       "      <td>충청북도 청주시 상당구 서문동 157-14</td>\n",
       "      <td>홈플러스(주)베이커리행사매대</td>\n",
       "      <td>제과점영업</td>\n",
       "      <td>상당구</td>\n",
       "      <td>서문동</td>\n",
       "    </tr>\n",
       "    <tr>\n",
       "      <th>1505</th>\n",
       "      <td>20190214</td>\n",
       "      <td>1</td>\n",
       "      <td>0</td>\n",
       "      <td>충청북도 청주시 청원구 주중동 1054번지 103호</td>\n",
       "      <td>미쓰콩</td>\n",
       "      <td>제과점영업</td>\n",
       "      <td>청원구</td>\n",
       "      <td>주중동</td>\n",
       "    </tr>\n",
       "    <tr>\n",
       "      <th>3998</th>\n",
       "      <td>20190521</td>\n",
       "      <td>1</td>\n",
       "      <td>0</td>\n",
       "      <td>충청북도 청주시 서원구 분평동 1258</td>\n",
       "      <td>파리바게뜨분평주은</td>\n",
       "      <td>제과점영업</td>\n",
       "      <td>서원구</td>\n",
       "      <td>분평동</td>\n",
       "    </tr>\n",
       "  </tbody>\n",
       "</table>\n",
       "</div>"
      ],
      "text/plain": [
       "         인허가일자  상세영업상태코드  폐업일자                       소재지전체주소             사업장명  \\\n",
       "1493  20190109         1     0       충청북도 청주시 상당구 서문동 157-14  홈플러스(주)베이커리행사매대   \n",
       "1505  20190214         1     0  충청북도 청주시 청원구 주중동 1054번지 103호              미쓰콩   \n",
       "3998  20190521         1     0         충청북도 청주시 서원구 분평동 1258        파리바게뜨분평주은   \n",
       "\n",
       "      업태구분명   구명   동명  \n",
       "1493  제과점영업  상당구  서문동  \n",
       "1505  제과점영업  청원구  주중동  \n",
       "3998  제과점영업  서원구  분평동  "
      ]
     },
     "execution_count": 86,
     "metadata": {},
     "output_type": "execute_result"
    }
   ],
   "source": [
    "bread.head(3) # 폐업일자의 NaN이 0으로 변한것을 확인"
   ]
  },
  {
   "cell_type": "code",
   "execution_count": 87,
   "metadata": {},
   "outputs": [
    {
     "data": {
      "text/plain": [
       "False"
      ]
     },
     "execution_count": 87,
     "metadata": {},
     "output_type": "execute_result"
    }
   ],
   "source": [
    "bread.isna().any().any() # 결측치가 하나라도 존재하면 Ture. 깔끔하게 없는것을 확인"
   ]
  },
  {
   "cell_type": "code",
   "execution_count": 88,
   "metadata": {},
   "outputs": [
    {
     "data": {
      "text/plain": [
       "(820, 6)"
      ]
     },
     "execution_count": 88,
     "metadata": {},
     "output_type": "execute_result"
    }
   ],
   "source": [
    "bread = bread.drop(columns=['소재지전체주소', '업태구분명']) # 중복된 정보이므로 필요없는 열 제거\n",
    "bread.shape"
   ]
  },
  {
   "cell_type": "code",
   "execution_count": 122,
   "metadata": {},
   "outputs": [
    {
     "data": {
      "text/html": [
       "<div>\n",
       "<style scoped>\n",
       "    .dataframe tbody tr th:only-of-type {\n",
       "        vertical-align: middle;\n",
       "    }\n",
       "\n",
       "    .dataframe tbody tr th {\n",
       "        vertical-align: top;\n",
       "    }\n",
       "\n",
       "    .dataframe thead th {\n",
       "        text-align: right;\n",
       "    }\n",
       "</style>\n",
       "<table border=\"1\" class=\"dataframe\">\n",
       "  <thead>\n",
       "    <tr style=\"text-align: right;\">\n",
       "      <th></th>\n",
       "      <th>인허가일자</th>\n",
       "      <th>상태코드</th>\n",
       "      <th>폐업일자</th>\n",
       "      <th>사업장명</th>\n",
       "      <th>구명</th>\n",
       "      <th>동명</th>\n",
       "      <th>설립년도</th>\n",
       "      <th>폐업년도</th>\n",
       "      <th>영업기간</th>\n",
       "    </tr>\n",
       "  </thead>\n",
       "  <tbody>\n",
       "    <tr>\n",
       "      <th>0</th>\n",
       "      <td>20190109</td>\n",
       "      <td>1</td>\n",
       "      <td>0</td>\n",
       "      <td>홈플러스(주)베이커리행사매대</td>\n",
       "      <td>상당구</td>\n",
       "      <td>서문동</td>\n",
       "      <td>2019</td>\n",
       "      <td>0</td>\n",
       "      <td>3</td>\n",
       "    </tr>\n",
       "    <tr>\n",
       "      <th>1</th>\n",
       "      <td>20190214</td>\n",
       "      <td>1</td>\n",
       "      <td>0</td>\n",
       "      <td>미쓰콩</td>\n",
       "      <td>청원구</td>\n",
       "      <td>주중동</td>\n",
       "      <td>2019</td>\n",
       "      <td>0</td>\n",
       "      <td>3</td>\n",
       "    </tr>\n",
       "    <tr>\n",
       "      <th>2</th>\n",
       "      <td>20190521</td>\n",
       "      <td>1</td>\n",
       "      <td>0</td>\n",
       "      <td>파리바게뜨분평주은</td>\n",
       "      <td>서원구</td>\n",
       "      <td>분평동</td>\n",
       "      <td>2019</td>\n",
       "      <td>0</td>\n",
       "      <td>3</td>\n",
       "    </tr>\n",
       "    <tr>\n",
       "      <th>3</th>\n",
       "      <td>20190520</td>\n",
       "      <td>1</td>\n",
       "      <td>0</td>\n",
       "      <td>종달새빵집</td>\n",
       "      <td>상당구</td>\n",
       "      <td>수동</td>\n",
       "      <td>2019</td>\n",
       "      <td>0</td>\n",
       "      <td>3</td>\n",
       "    </tr>\n",
       "    <tr>\n",
       "      <th>4</th>\n",
       "      <td>20190513</td>\n",
       "      <td>1</td>\n",
       "      <td>0</td>\n",
       "      <td>뚜레쥬르 테크노폴리스점</td>\n",
       "      <td>흥덕구</td>\n",
       "      <td>송절동</td>\n",
       "      <td>2019</td>\n",
       "      <td>0</td>\n",
       "      <td>3</td>\n",
       "    </tr>\n",
       "  </tbody>\n",
       "</table>\n",
       "</div>"
      ],
      "text/plain": [
       "      인허가일자  상태코드  폐업일자             사업장명   구명   동명  설립년도  폐업년도  영업기간\n",
       "0  20190109     1     0  홈플러스(주)베이커리행사매대  상당구  서문동  2019     0     3\n",
       "1  20190214     1     0              미쓰콩  청원구  주중동  2019     0     3\n",
       "2  20190521     1     0        파리바게뜨분평주은  서원구  분평동  2019     0     3\n",
       "3  20190520     1     0            종달새빵집  상당구   수동  2019     0     3\n",
       "4  20190513     1     0     뚜레쥬르 테크노폴리스점  흥덕구  송절동  2019     0     3"
      ]
     },
     "execution_count": 122,
     "metadata": {},
     "output_type": "execute_result"
    }
   ],
   "source": [
    "bread = bread.rename(columns={'상세영업상태코드': '상태코드'}) # 이름이 너무 길어서 짧게 다시 정의\n",
    "bread.head(5)"
   ]
  },
  {
   "cell_type": "code",
   "execution_count": 90,
   "metadata": {},
   "outputs": [],
   "source": [
    "bread.to_csv('ccbread_after.csv', index=False) # 수정된 내용 저장"
   ]
  },
  {
   "cell_type": "code",
   "execution_count": 91,
   "metadata": {},
   "outputs": [
    {
     "data": {
      "text/html": [
       "<div>\n",
       "<style scoped>\n",
       "    .dataframe tbody tr th:only-of-type {\n",
       "        vertical-align: middle;\n",
       "    }\n",
       "\n",
       "    .dataframe tbody tr th {\n",
       "        vertical-align: top;\n",
       "    }\n",
       "\n",
       "    .dataframe thead th {\n",
       "        text-align: right;\n",
       "    }\n",
       "</style>\n",
       "<table border=\"1\" class=\"dataframe\">\n",
       "  <thead>\n",
       "    <tr style=\"text-align: right;\">\n",
       "      <th></th>\n",
       "      <th>인허가일자</th>\n",
       "      <th>상태코드</th>\n",
       "      <th>폐업일자</th>\n",
       "      <th>사업장명</th>\n",
       "      <th>구명</th>\n",
       "      <th>동명</th>\n",
       "    </tr>\n",
       "  </thead>\n",
       "  <tbody>\n",
       "    <tr>\n",
       "      <th>0</th>\n",
       "      <td>20190109</td>\n",
       "      <td>1</td>\n",
       "      <td>0</td>\n",
       "      <td>홈플러스(주)베이커리행사매대</td>\n",
       "      <td>상당구</td>\n",
       "      <td>서문동</td>\n",
       "    </tr>\n",
       "    <tr>\n",
       "      <th>1</th>\n",
       "      <td>20190214</td>\n",
       "      <td>1</td>\n",
       "      <td>0</td>\n",
       "      <td>미쓰콩</td>\n",
       "      <td>청원구</td>\n",
       "      <td>주중동</td>\n",
       "    </tr>\n",
       "  </tbody>\n",
       "</table>\n",
       "</div>"
      ],
      "text/plain": [
       "      인허가일자  상태코드  폐업일자             사업장명   구명   동명\n",
       "0  20190109     1     0  홈플러스(주)베이커리행사매대  상당구  서문동\n",
       "1  20190214     1     0              미쓰콩  청원구  주중동"
      ]
     },
     "execution_count": 91,
     "metadata": {},
     "output_type": "execute_result"
    }
   ],
   "source": [
    "bread = pd.read_csv('ccbread_after.csv')\n",
    "bread.head(2) # 잘 반영되었는지 확인"
   ]
  },
  {
   "cell_type": "code",
   "execution_count": 92,
   "metadata": {},
   "outputs": [
    {
     "data": {
      "text/plain": [
       "인허가일자    int64\n",
       "폐업일자     int64\n",
       "dtype: object"
      ]
     },
     "execution_count": 92,
     "metadata": {},
     "output_type": "execute_result"
    }
   ],
   "source": [
    "temp = bread[['인허가일자', '폐업일자']]\n",
    "temp.dtypes"
   ]
  },
  {
   "cell_type": "code",
   "execution_count": 93,
   "metadata": {},
   "outputs": [
    {
     "data": {
      "text/html": [
       "<div>\n",
       "<style scoped>\n",
       "    .dataframe tbody tr th:only-of-type {\n",
       "        vertical-align: middle;\n",
       "    }\n",
       "\n",
       "    .dataframe tbody tr th {\n",
       "        vertical-align: top;\n",
       "    }\n",
       "\n",
       "    .dataframe thead th {\n",
       "        text-align: right;\n",
       "    }\n",
       "</style>\n",
       "<table border=\"1\" class=\"dataframe\">\n",
       "  <thead>\n",
       "    <tr style=\"text-align: right;\">\n",
       "      <th></th>\n",
       "      <th>인허가일자</th>\n",
       "      <th>상태코드</th>\n",
       "      <th>폐업일자</th>\n",
       "      <th>사업장명</th>\n",
       "      <th>구명</th>\n",
       "      <th>동명</th>\n",
       "      <th>설립년도</th>\n",
       "      <th>폐업년도</th>\n",
       "    </tr>\n",
       "  </thead>\n",
       "  <tbody>\n",
       "    <tr>\n",
       "      <th>818</th>\n",
       "      <td>20201230</td>\n",
       "      <td>2</td>\n",
       "      <td>20210624</td>\n",
       "      <td>카페인중독용암점</td>\n",
       "      <td>상당구</td>\n",
       "      <td>용암동</td>\n",
       "      <td>2020</td>\n",
       "      <td>2021</td>\n",
       "    </tr>\n",
       "    <tr>\n",
       "      <th>819</th>\n",
       "      <td>20210208</td>\n",
       "      <td>2</td>\n",
       "      <td>20210218</td>\n",
       "      <td>팥고당(현대충청점)</td>\n",
       "      <td>흥덕구</td>\n",
       "      <td>복대동</td>\n",
       "      <td>2021</td>\n",
       "      <td>2021</td>\n",
       "    </tr>\n",
       "  </tbody>\n",
       "</table>\n",
       "</div>"
      ],
      "text/plain": [
       "        인허가일자  상태코드      폐업일자        사업장명   구명   동명  설립년도  폐업년도\n",
       "818  20201230     2  20210624    카페인중독용암점  상당구  용암동  2020  2021\n",
       "819  20210208     2  20210218  팥고당(현대충청점)  흥덕구  복대동  2021  2021"
      ]
     },
     "execution_count": 93,
     "metadata": {},
     "output_type": "execute_result"
    }
   ],
   "source": [
    "year = bread['인허가일자'] // 10000\n",
    "month = bread['인허가일자'] // 100 % 100\n",
    "day = bread['인허가일자'] % 100\n",
    "bread['설립년도'] = bread['인허가일자'] // 10000\n",
    "bread['폐업년도'] = bread['폐업일자'] // 10000\n",
    "bread.tail(2)"
   ]
  },
  {
   "cell_type": "code",
   "execution_count": 94,
   "metadata": {},
   "outputs": [
    {
     "data": {
      "text/plain": [
       "0       1\n",
       "1       2\n",
       "2       5\n",
       "3       5\n",
       "4       5\n",
       "       ..\n",
       "815     1\n",
       "816     2\n",
       "817     3\n",
       "818    12\n",
       "819     2\n",
       "Name: 인허가일자, Length: 820, dtype: int64"
      ]
     },
     "execution_count": 94,
     "metadata": {},
     "output_type": "execute_result"
    }
   ],
   "source": [
    "temp = pd.to_datetime(bread['인허가일자'], format='%Y%m%d')\n",
    "temp.dt.month"
   ]
  },
  {
   "cell_type": "code",
   "execution_count": 95,
   "metadata": {},
   "outputs": [
    {
     "data": {
      "text/html": [
       "<div>\n",
       "<style scoped>\n",
       "    .dataframe tbody tr th:only-of-type {\n",
       "        vertical-align: middle;\n",
       "    }\n",
       "\n",
       "    .dataframe tbody tr th {\n",
       "        vertical-align: top;\n",
       "    }\n",
       "\n",
       "    .dataframe thead th {\n",
       "        text-align: right;\n",
       "    }\n",
       "</style>\n",
       "<table border=\"1\" class=\"dataframe\">\n",
       "  <thead>\n",
       "    <tr style=\"text-align: right;\">\n",
       "      <th></th>\n",
       "      <th>인허가일자</th>\n",
       "      <th>상태코드</th>\n",
       "      <th>폐업일자</th>\n",
       "      <th>사업장명</th>\n",
       "      <th>구명</th>\n",
       "      <th>동명</th>\n",
       "      <th>설립년도</th>\n",
       "      <th>폐업년도</th>\n",
       "      <th>영업기간</th>\n",
       "    </tr>\n",
       "  </thead>\n",
       "  <tbody>\n",
       "    <tr>\n",
       "      <th>817</th>\n",
       "      <td>20070315</td>\n",
       "      <td>2</td>\n",
       "      <td>20160512</td>\n",
       "      <td>쇼콜라떼</td>\n",
       "      <td>상당구</td>\n",
       "      <td>영운동</td>\n",
       "      <td>2007</td>\n",
       "      <td>2016</td>\n",
       "      <td>10.0</td>\n",
       "    </tr>\n",
       "    <tr>\n",
       "      <th>818</th>\n",
       "      <td>20201230</td>\n",
       "      <td>2</td>\n",
       "      <td>20210624</td>\n",
       "      <td>카페인중독용암점</td>\n",
       "      <td>상당구</td>\n",
       "      <td>용암동</td>\n",
       "      <td>2020</td>\n",
       "      <td>2021</td>\n",
       "      <td>2.0</td>\n",
       "    </tr>\n",
       "    <tr>\n",
       "      <th>819</th>\n",
       "      <td>20210208</td>\n",
       "      <td>2</td>\n",
       "      <td>20210218</td>\n",
       "      <td>팥고당(현대충청점)</td>\n",
       "      <td>흥덕구</td>\n",
       "      <td>복대동</td>\n",
       "      <td>2021</td>\n",
       "      <td>2021</td>\n",
       "      <td>1.0</td>\n",
       "    </tr>\n",
       "  </tbody>\n",
       "</table>\n",
       "</div>"
      ],
      "text/plain": [
       "        인허가일자  상태코드      폐업일자        사업장명   구명   동명  설립년도  폐업년도  영업기간\n",
       "817  20070315     2  20160512        쇼콜라떼  상당구  영운동  2007  2016  10.0\n",
       "818  20201230     2  20210624    카페인중독용암점  상당구  용암동  2020  2021   2.0\n",
       "819  20210208     2  20210218  팥고당(현대충청점)  흥덕구  복대동  2021  2021   1.0"
      ]
     },
     "execution_count": 95,
     "metadata": {},
     "output_type": "execute_result"
    }
   ],
   "source": [
    "nyear = 2021    \n",
    "bread.loc[bread['상태코드']==1,'영업기간'] = nyear - bread['설립년도'] + 1\n",
    "bread.loc[bread['상태코드']==2,'영업기간'] = bread['폐업년도'] - bread['설립년도'] + 1\n",
    "bread.tail(3)"
   ]
  },
  {
   "cell_type": "code",
   "execution_count": 96,
   "metadata": {},
   "outputs": [
    {
     "data": {
      "text/plain": [
       "인허가일자           20190109\n",
       "상태코드                   1\n",
       "폐업일자                   0\n",
       "사업장명     홈플러스(주)베이커리행사매대\n",
       "구명                   상당구\n",
       "동명                   서문동\n",
       "설립년도                2019\n",
       "폐업년도                   0\n",
       "영업기간                 3.0\n",
       "Name: 0, dtype: object"
      ]
     },
     "execution_count": 96,
     "metadata": {},
     "output_type": "execute_result"
    }
   ],
   "source": [
    "bread.iloc[0, ]"
   ]
  },
  {
   "cell_type": "code",
   "execution_count": 97,
   "metadata": {},
   "outputs": [],
   "source": [
    "def func(x):\n",
    "    nyear = 2021\n",
    "    if x['상태코드']==1:\n",
    "        r = nyear - x['설립년도'] + 1\n",
    "    else:\n",
    "        r = x['폐업년도'] - x['설립년도'] + 1\n",
    "    return r\n",
    "\n",
    "def func2(x):    \n",
    "    nyear = 2021\n",
    "    return nyear - x['설립년도'] + 1 if x['상태코드']==1 else x['폐업년도'] - x['설립년도'] + 1\n",
    "\n",
    "bread['영업기간'] = bread.apply(lambda x : (nyear - x['설립년도'] + 1) if x['상태코드']==1 else (x['폐업년도'] - x['설립년도'] + 1), axis=1)\n"
   ]
  },
  {
   "cell_type": "code",
   "execution_count": 98,
   "metadata": {},
   "outputs": [
    {
     "data": {
      "text/html": [
       "<div>\n",
       "<style scoped>\n",
       "    .dataframe tbody tr th:only-of-type {\n",
       "        vertical-align: middle;\n",
       "    }\n",
       "\n",
       "    .dataframe tbody tr th {\n",
       "        vertical-align: top;\n",
       "    }\n",
       "\n",
       "    .dataframe thead th {\n",
       "        text-align: right;\n",
       "    }\n",
       "</style>\n",
       "<table border=\"1\" class=\"dataframe\">\n",
       "  <thead>\n",
       "    <tr style=\"text-align: right;\">\n",
       "      <th></th>\n",
       "      <th>1976</th>\n",
       "      <th>1981</th>\n",
       "      <th>1983</th>\n",
       "      <th>1984</th>\n",
       "      <th>1985</th>\n",
       "      <th>1986</th>\n",
       "      <th>1987</th>\n",
       "      <th>1988</th>\n",
       "      <th>1989</th>\n",
       "      <th>1990</th>\n",
       "      <th>...</th>\n",
       "      <th>2012</th>\n",
       "      <th>2013</th>\n",
       "      <th>2014</th>\n",
       "      <th>2015</th>\n",
       "      <th>2016</th>\n",
       "      <th>2017</th>\n",
       "      <th>2018</th>\n",
       "      <th>2019</th>\n",
       "      <th>2020</th>\n",
       "      <th>2021</th>\n",
       "    </tr>\n",
       "  </thead>\n",
       "  <tbody>\n",
       "    <tr>\n",
       "      <th>설립년도</th>\n",
       "      <td>4</td>\n",
       "      <td>1</td>\n",
       "      <td>1</td>\n",
       "      <td>2</td>\n",
       "      <td>2</td>\n",
       "      <td>5</td>\n",
       "      <td>1</td>\n",
       "      <td>4</td>\n",
       "      <td>2</td>\n",
       "      <td>12</td>\n",
       "      <td>...</td>\n",
       "      <td>54</td>\n",
       "      <td>18</td>\n",
       "      <td>41</td>\n",
       "      <td>29</td>\n",
       "      <td>28</td>\n",
       "      <td>37</td>\n",
       "      <td>23</td>\n",
       "      <td>25</td>\n",
       "      <td>49</td>\n",
       "      <td>34</td>\n",
       "    </tr>\n",
       "  </tbody>\n",
       "</table>\n",
       "<p>1 rows × 41 columns</p>\n",
       "</div>"
      ],
      "text/plain": [
       "      1976  1981  1983  1984  1985  1986  1987  1988  1989  1990  ...  2012  \\\n",
       "설립년도     4     1     1     2     2     5     1     4     2    12  ...    54   \n",
       "\n",
       "      2013  2014  2015  2016  2017  2018  2019  2020  2021  \n",
       "설립년도    18    41    29    28    37    23    25    49    34  \n",
       "\n",
       "[1 rows x 41 columns]"
      ]
     },
     "execution_count": 98,
     "metadata": {},
     "output_type": "execute_result"
    }
   ],
   "source": [
    "temp1 = bread['설립년도'].value_counts().sort_index().to_frame().T\n",
    "temp1"
   ]
  },
  {
   "cell_type": "code",
   "execution_count": 99,
   "metadata": {},
   "outputs": [
    {
     "data": {
      "text/html": [
       "<div>\n",
       "<style scoped>\n",
       "    .dataframe tbody tr th:only-of-type {\n",
       "        vertical-align: middle;\n",
       "    }\n",
       "\n",
       "    .dataframe tbody tr th {\n",
       "        vertical-align: top;\n",
       "    }\n",
       "\n",
       "    .dataframe thead th {\n",
       "        text-align: right;\n",
       "    }\n",
       "</style>\n",
       "<table border=\"1\" class=\"dataframe\">\n",
       "  <thead>\n",
       "    <tr style=\"text-align: right;\">\n",
       "      <th></th>\n",
       "      <th>0</th>\n",
       "      <th>2001</th>\n",
       "      <th>2002</th>\n",
       "      <th>2003</th>\n",
       "      <th>2004</th>\n",
       "      <th>2005</th>\n",
       "      <th>2006</th>\n",
       "      <th>2007</th>\n",
       "      <th>2008</th>\n",
       "      <th>2009</th>\n",
       "      <th>...</th>\n",
       "      <th>2012</th>\n",
       "      <th>2013</th>\n",
       "      <th>2014</th>\n",
       "      <th>2015</th>\n",
       "      <th>2016</th>\n",
       "      <th>2017</th>\n",
       "      <th>2018</th>\n",
       "      <th>2019</th>\n",
       "      <th>2020</th>\n",
       "      <th>2021</th>\n",
       "    </tr>\n",
       "  </thead>\n",
       "  <tbody>\n",
       "    <tr>\n",
       "      <th>폐업년도</th>\n",
       "      <td>307</td>\n",
       "      <td>8</td>\n",
       "      <td>15</td>\n",
       "      <td>25</td>\n",
       "      <td>17</td>\n",
       "      <td>21</td>\n",
       "      <td>46</td>\n",
       "      <td>20</td>\n",
       "      <td>22</td>\n",
       "      <td>16</td>\n",
       "      <td>...</td>\n",
       "      <td>42</td>\n",
       "      <td>22</td>\n",
       "      <td>24</td>\n",
       "      <td>16</td>\n",
       "      <td>26</td>\n",
       "      <td>26</td>\n",
       "      <td>28</td>\n",
       "      <td>28</td>\n",
       "      <td>28</td>\n",
       "      <td>25</td>\n",
       "    </tr>\n",
       "  </tbody>\n",
       "</table>\n",
       "<p>1 rows × 22 columns</p>\n",
       "</div>"
      ],
      "text/plain": [
       "      0     2001  2002  2003  2004  2005  2006  2007  2008  2009  ...  2012  \\\n",
       "폐업년도   307     8    15    25    17    21    46    20    22    16  ...    42   \n",
       "\n",
       "      2013  2014  2015  2016  2017  2018  2019  2020  2021  \n",
       "폐업년도    22    24    16    26    26    28    28    28    25  \n",
       "\n",
       "[1 rows x 22 columns]"
      ]
     },
     "execution_count": 99,
     "metadata": {},
     "output_type": "execute_result"
    }
   ],
   "source": [
    "temp2 = bread['폐업년도'].value_counts().sort_index().to_frame().T\n",
    "temp2"
   ]
  },
  {
   "cell_type": "code",
   "execution_count": 100,
   "metadata": {},
   "outputs": [
    {
     "data": {
      "text/html": [
       "<div>\n",
       "<style scoped>\n",
       "    .dataframe tbody tr th:only-of-type {\n",
       "        vertical-align: middle;\n",
       "    }\n",
       "\n",
       "    .dataframe tbody tr th {\n",
       "        vertical-align: top;\n",
       "    }\n",
       "\n",
       "    .dataframe thead th {\n",
       "        text-align: right;\n",
       "    }\n",
       "</style>\n",
       "<table border=\"1\" class=\"dataframe\">\n",
       "  <thead>\n",
       "    <tr style=\"text-align: right;\">\n",
       "      <th></th>\n",
       "      <th>0</th>\n",
       "      <th>1976</th>\n",
       "      <th>1981</th>\n",
       "      <th>1983</th>\n",
       "      <th>1984</th>\n",
       "      <th>1985</th>\n",
       "      <th>1986</th>\n",
       "      <th>1987</th>\n",
       "      <th>1988</th>\n",
       "      <th>1989</th>\n",
       "      <th>...</th>\n",
       "      <th>2012</th>\n",
       "      <th>2013</th>\n",
       "      <th>2014</th>\n",
       "      <th>2015</th>\n",
       "      <th>2016</th>\n",
       "      <th>2017</th>\n",
       "      <th>2018</th>\n",
       "      <th>2019</th>\n",
       "      <th>2020</th>\n",
       "      <th>2021</th>\n",
       "    </tr>\n",
       "  </thead>\n",
       "  <tbody>\n",
       "    <tr>\n",
       "      <th>설립년도</th>\n",
       "      <td>NaN</td>\n",
       "      <td>4.0</td>\n",
       "      <td>1.0</td>\n",
       "      <td>1.0</td>\n",
       "      <td>2.0</td>\n",
       "      <td>2.0</td>\n",
       "      <td>5.0</td>\n",
       "      <td>1.0</td>\n",
       "      <td>4.0</td>\n",
       "      <td>2.0</td>\n",
       "      <td>...</td>\n",
       "      <td>54</td>\n",
       "      <td>18</td>\n",
       "      <td>41</td>\n",
       "      <td>29</td>\n",
       "      <td>28</td>\n",
       "      <td>37</td>\n",
       "      <td>23</td>\n",
       "      <td>25</td>\n",
       "      <td>49</td>\n",
       "      <td>34</td>\n",
       "    </tr>\n",
       "    <tr>\n",
       "      <th>폐업년도</th>\n",
       "      <td>307.0</td>\n",
       "      <td>NaN</td>\n",
       "      <td>NaN</td>\n",
       "      <td>NaN</td>\n",
       "      <td>NaN</td>\n",
       "      <td>NaN</td>\n",
       "      <td>NaN</td>\n",
       "      <td>NaN</td>\n",
       "      <td>NaN</td>\n",
       "      <td>NaN</td>\n",
       "      <td>...</td>\n",
       "      <td>42</td>\n",
       "      <td>22</td>\n",
       "      <td>24</td>\n",
       "      <td>16</td>\n",
       "      <td>26</td>\n",
       "      <td>26</td>\n",
       "      <td>28</td>\n",
       "      <td>28</td>\n",
       "      <td>28</td>\n",
       "      <td>25</td>\n",
       "    </tr>\n",
       "  </tbody>\n",
       "</table>\n",
       "<p>2 rows × 42 columns</p>\n",
       "</div>"
      ],
      "text/plain": [
       "       0     1976  1981  1983  1984  1985  1986  1987  1988  1989  ...  2012  \\\n",
       "설립년도    NaN   4.0   1.0   1.0   2.0   2.0   5.0   1.0   4.0   2.0  ...    54   \n",
       "폐업년도  307.0   NaN   NaN   NaN   NaN   NaN   NaN   NaN   NaN   NaN  ...    42   \n",
       "\n",
       "      2013  2014  2015  2016  2017  2018  2019  2020  2021  \n",
       "설립년도    18    41    29    28    37    23    25    49    34  \n",
       "폐업년도    22    24    16    26    26    28    28    28    25  \n",
       "\n",
       "[2 rows x 42 columns]"
      ]
     },
     "execution_count": 100,
     "metadata": {},
     "output_type": "execute_result"
    }
   ],
   "source": [
    "temp = pd.concat([temp1, temp2], axis=0, join='outer')\n",
    "temp # 설립년도 폐업년도 표 합치기"
   ]
  },
  {
   "cell_type": "code",
   "execution_count": 101,
   "metadata": {},
   "outputs": [
    {
     "data": {
      "text/html": [
       "<div>\n",
       "<style scoped>\n",
       "    .dataframe tbody tr th:only-of-type {\n",
       "        vertical-align: middle;\n",
       "    }\n",
       "\n",
       "    .dataframe tbody tr th {\n",
       "        vertical-align: top;\n",
       "    }\n",
       "\n",
       "    .dataframe thead th {\n",
       "        text-align: right;\n",
       "    }\n",
       "</style>\n",
       "<table border=\"1\" class=\"dataframe\">\n",
       "  <thead>\n",
       "    <tr style=\"text-align: right;\">\n",
       "      <th></th>\n",
       "      <th>0</th>\n",
       "      <th>1976</th>\n",
       "      <th>1981</th>\n",
       "      <th>1983</th>\n",
       "      <th>1984</th>\n",
       "      <th>1985</th>\n",
       "      <th>1986</th>\n",
       "      <th>1987</th>\n",
       "      <th>1988</th>\n",
       "      <th>1989</th>\n",
       "      <th>...</th>\n",
       "      <th>2012</th>\n",
       "      <th>2013</th>\n",
       "      <th>2014</th>\n",
       "      <th>2015</th>\n",
       "      <th>2016</th>\n",
       "      <th>2017</th>\n",
       "      <th>2018</th>\n",
       "      <th>2019</th>\n",
       "      <th>2020</th>\n",
       "      <th>2021</th>\n",
       "    </tr>\n",
       "  </thead>\n",
       "  <tbody>\n",
       "    <tr>\n",
       "      <th>설립년도</th>\n",
       "      <td>0</td>\n",
       "      <td>4</td>\n",
       "      <td>1</td>\n",
       "      <td>1</td>\n",
       "      <td>2</td>\n",
       "      <td>2</td>\n",
       "      <td>5</td>\n",
       "      <td>1</td>\n",
       "      <td>4</td>\n",
       "      <td>2</td>\n",
       "      <td>...</td>\n",
       "      <td>54</td>\n",
       "      <td>18</td>\n",
       "      <td>41</td>\n",
       "      <td>29</td>\n",
       "      <td>28</td>\n",
       "      <td>37</td>\n",
       "      <td>23</td>\n",
       "      <td>25</td>\n",
       "      <td>49</td>\n",
       "      <td>34</td>\n",
       "    </tr>\n",
       "    <tr>\n",
       "      <th>폐업년도</th>\n",
       "      <td>307</td>\n",
       "      <td>0</td>\n",
       "      <td>0</td>\n",
       "      <td>0</td>\n",
       "      <td>0</td>\n",
       "      <td>0</td>\n",
       "      <td>0</td>\n",
       "      <td>0</td>\n",
       "      <td>0</td>\n",
       "      <td>0</td>\n",
       "      <td>...</td>\n",
       "      <td>42</td>\n",
       "      <td>22</td>\n",
       "      <td>24</td>\n",
       "      <td>16</td>\n",
       "      <td>26</td>\n",
       "      <td>26</td>\n",
       "      <td>28</td>\n",
       "      <td>28</td>\n",
       "      <td>28</td>\n",
       "      <td>25</td>\n",
       "    </tr>\n",
       "  </tbody>\n",
       "</table>\n",
       "<p>2 rows × 42 columns</p>\n",
       "</div>"
      ],
      "text/plain": [
       "      0     1976  1981  1983  1984  1985  1986  1987  1988  1989  ...  2012  \\\n",
       "설립년도     0     4     1     1     2     2     5     1     4     2  ...    54   \n",
       "폐업년도   307     0     0     0     0     0     0     0     0     0  ...    42   \n",
       "\n",
       "      2013  2014  2015  2016  2017  2018  2019  2020  2021  \n",
       "설립년도    18    41    29    28    37    23    25    49    34  \n",
       "폐업년도    22    24    16    26    26    28    28    28    25  \n",
       "\n",
       "[2 rows x 42 columns]"
      ]
     },
     "execution_count": 101,
     "metadata": {},
     "output_type": "execute_result"
    }
   ],
   "source": [
    "temp.fillna(0).astype('int64') # 결측치 정리"
   ]
  },
  {
   "cell_type": "code",
   "execution_count": 102,
   "metadata": {},
   "outputs": [],
   "source": [
    "yyear = temp.T"
   ]
  },
  {
   "cell_type": "code",
   "execution_count": 103,
   "metadata": {},
   "outputs": [
    {
     "data": {
      "image/png": "[encoded data removed]",
      "text/plain": [
       "<Figure size 720x360 with 1 Axes>"
      ]
     },
     "metadata": {
      "image/png": {
       "height": 321,
       "width": 591
      },
      "needs_background": "light"
     },
     "output_type": "display_data"
    }
   ],
   "source": [
    "\n",
    "yyear.plot.line(figsize=(10, 5), marker='o', markersize=4)\n",
    "plt.title('년도별 제과점 개업, 폐업 수', fontsize=16)\n",
    "plt.xlim([1950, 2022])   \n",
    "plt.ylim([0, 80])    \n",
    "plt.grid()"
   ]
  },
  {
   "cell_type": "code",
   "execution_count": 104,
   "metadata": {},
   "outputs": [
    {
     "data": {
      "text/html": [
       "<div>\n",
       "<style scoped>\n",
       "    .dataframe tbody tr th:only-of-type {\n",
       "        vertical-align: middle;\n",
       "    }\n",
       "\n",
       "    .dataframe tbody tr th {\n",
       "        vertical-align: top;\n",
       "    }\n",
       "\n",
       "    .dataframe thead th {\n",
       "        text-align: right;\n",
       "    }\n",
       "</style>\n",
       "<table border=\"1\" class=\"dataframe\">\n",
       "  <thead>\n",
       "    <tr style=\"text-align: right;\">\n",
       "      <th></th>\n",
       "      <th>인허가일자</th>\n",
       "      <th>상태코드</th>\n",
       "      <th>폐업일자</th>\n",
       "      <th>사업장명</th>\n",
       "      <th>구명</th>\n",
       "      <th>동명</th>\n",
       "      <th>설립년도</th>\n",
       "      <th>폐업년도</th>\n",
       "      <th>영업기간</th>\n",
       "    </tr>\n",
       "  </thead>\n",
       "  <tbody>\n",
       "    <tr>\n",
       "      <th>2</th>\n",
       "      <td>20190521</td>\n",
       "      <td>1</td>\n",
       "      <td>0</td>\n",
       "      <td>파리바게뜨분평주은</td>\n",
       "      <td>서원구</td>\n",
       "      <td>분평동</td>\n",
       "      <td>2019</td>\n",
       "      <td>0</td>\n",
       "      <td>3</td>\n",
       "    </tr>\n",
       "    <tr>\n",
       "      <th>19</th>\n",
       "      <td>20200210</td>\n",
       "      <td>1</td>\n",
       "      <td>0</td>\n",
       "      <td>파리바게뜨 옥산파크자이</td>\n",
       "      <td>흥덕구</td>\n",
       "      <td>옥산면</td>\n",
       "      <td>2020</td>\n",
       "      <td>0</td>\n",
       "      <td>2</td>\n",
       "    </tr>\n",
       "    <tr>\n",
       "      <th>22</th>\n",
       "      <td>20200407</td>\n",
       "      <td>1</td>\n",
       "      <td>0</td>\n",
       "      <td>파리바게뜨청주동남씨티점</td>\n",
       "      <td>상당구</td>\n",
       "      <td>용암동</td>\n",
       "      <td>2020</td>\n",
       "      <td>0</td>\n",
       "      <td>2</td>\n",
       "    </tr>\n",
       "    <tr>\n",
       "      <th>47</th>\n",
       "      <td>20210512</td>\n",
       "      <td>1</td>\n",
       "      <td>0</td>\n",
       "      <td>파리바게뜨청주동남우미린점</td>\n",
       "      <td>상당구</td>\n",
       "      <td>방서동</td>\n",
       "      <td>2021</td>\n",
       "      <td>0</td>\n",
       "      <td>1</td>\n",
       "    </tr>\n",
       "    <tr>\n",
       "      <th>50</th>\n",
       "      <td>20110121</td>\n",
       "      <td>1</td>\n",
       "      <td>0</td>\n",
       "      <td>파리바게뜨터미널점</td>\n",
       "      <td>흥덕구</td>\n",
       "      <td>가경동</td>\n",
       "      <td>2011</td>\n",
       "      <td>0</td>\n",
       "      <td>11</td>\n",
       "    </tr>\n",
       "  </tbody>\n",
       "</table>\n",
       "</div>"
      ],
      "text/plain": [
       "       인허가일자  상태코드  폐업일자           사업장명   구명   동명  설립년도  폐업년도  영업기간\n",
       "2   20190521     1     0      파리바게뜨분평주은  서원구  분평동  2019     0     3\n",
       "19  20200210     1     0   파리바게뜨 옥산파크자이  흥덕구  옥산면  2020     0     2\n",
       "22  20200407     1     0   파리바게뜨청주동남씨티점  상당구  용암동  2020     0     2\n",
       "47  20210512     1     0  파리바게뜨청주동남우미린점  상당구  방서동  2021     0     1\n",
       "50  20110121     1     0      파리바게뜨터미널점  흥덕구  가경동  2011     0    11"
      ]
     },
     "execution_count": 104,
     "metadata": {},
     "output_type": "execute_result"
    }
   ],
   "source": [
    "paris = bread.loc[bread['사업장명'].str.contains('파리바게'), :] #파리바게트 or 파리바게뜨로 되어있어서 파리바게로 검색\n",
    "paris.head(5)"
   ]
  },
  {
   "cell_type": "code",
   "execution_count": 105,
   "metadata": {},
   "outputs": [
    {
     "data": {
      "text/html": [
       "<div>\n",
       "<style scoped>\n",
       "    .dataframe tbody tr th:only-of-type {\n",
       "        vertical-align: middle;\n",
       "    }\n",
       "\n",
       "    .dataframe tbody tr th {\n",
       "        vertical-align: top;\n",
       "    }\n",
       "\n",
       "    .dataframe thead th {\n",
       "        text-align: right;\n",
       "    }\n",
       "</style>\n",
       "<table border=\"1\" class=\"dataframe\">\n",
       "  <thead>\n",
       "    <tr style=\"text-align: right;\">\n",
       "      <th></th>\n",
       "      <th>인허가일자</th>\n",
       "      <th>상태코드</th>\n",
       "      <th>폐업일자</th>\n",
       "      <th>사업장명</th>\n",
       "      <th>구명</th>\n",
       "      <th>동명</th>\n",
       "      <th>설립년도</th>\n",
       "      <th>폐업년도</th>\n",
       "      <th>영업기간</th>\n",
       "    </tr>\n",
       "  </thead>\n",
       "  <tbody>\n",
       "    <tr>\n",
       "      <th>4</th>\n",
       "      <td>20190513</td>\n",
       "      <td>1</td>\n",
       "      <td>0</td>\n",
       "      <td>뚜레쥬르 테크노폴리스점</td>\n",
       "      <td>흥덕구</td>\n",
       "      <td>송절동</td>\n",
       "      <td>2019</td>\n",
       "      <td>0</td>\n",
       "      <td>3</td>\n",
       "    </tr>\n",
       "    <tr>\n",
       "      <th>7</th>\n",
       "      <td>20190806</td>\n",
       "      <td>1</td>\n",
       "      <td>0</td>\n",
       "      <td>뚜레쥬르</td>\n",
       "      <td>흥덕구</td>\n",
       "      <td>옥산면</td>\n",
       "      <td>2019</td>\n",
       "      <td>0</td>\n",
       "      <td>3</td>\n",
       "    </tr>\n",
       "    <tr>\n",
       "      <th>31</th>\n",
       "      <td>20200720</td>\n",
       "      <td>1</td>\n",
       "      <td>0</td>\n",
       "      <td>뚜레쥬르청주동남점</td>\n",
       "      <td>상당구</td>\n",
       "      <td>용암동</td>\n",
       "      <td>2020</td>\n",
       "      <td>0</td>\n",
       "      <td>2</td>\n",
       "    </tr>\n",
       "    <tr>\n",
       "      <th>35</th>\n",
       "      <td>20210726</td>\n",
       "      <td>1</td>\n",
       "      <td>0</td>\n",
       "      <td>뚜레쥬르 성화중앙점</td>\n",
       "      <td>서원구</td>\n",
       "      <td>성화동</td>\n",
       "      <td>2021</td>\n",
       "      <td>0</td>\n",
       "      <td>1</td>\n",
       "    </tr>\n",
       "    <tr>\n",
       "      <th>66</th>\n",
       "      <td>20210305</td>\n",
       "      <td>1</td>\n",
       "      <td>0</td>\n",
       "      <td>뚜레쥬르율량점</td>\n",
       "      <td>청원구</td>\n",
       "      <td>율량동</td>\n",
       "      <td>2021</td>\n",
       "      <td>0</td>\n",
       "      <td>1</td>\n",
       "    </tr>\n",
       "  </tbody>\n",
       "</table>\n",
       "</div>"
      ],
      "text/plain": [
       "       인허가일자  상태코드  폐업일자          사업장명   구명   동명  설립년도  폐업년도  영업기간\n",
       "4   20190513     1     0  뚜레쥬르 테크노폴리스점  흥덕구  송절동  2019     0     3\n",
       "7   20190806     1     0          뚜레쥬르  흥덕구  옥산면  2019     0     3\n",
       "31  20200720     1     0     뚜레쥬르청주동남점  상당구  용암동  2020     0     2\n",
       "35  20210726     1     0    뚜레쥬르 성화중앙점  서원구  성화동  2021     0     1\n",
       "66  20210305     1     0       뚜레쥬르율량점  청원구  율량동  2021     0     1"
      ]
     },
     "execution_count": 105,
     "metadata": {},
     "output_type": "execute_result"
    }
   ],
   "source": [
    "tous = bread.loc[bread['사업장명'].str.contains('뚜레쥬르'), :]\n",
    "tous.head(5)"
   ]
  },
  {
   "cell_type": "code",
   "execution_count": 106,
   "metadata": {},
   "outputs": [
    {
     "name": "stdout",
     "output_type": "stream",
     "text": [
      "(90, 9) (75, 9)\n"
     ]
    }
   ],
   "source": [
    "print(paris.shape, tous.shape) #파리바게뜨 90점 뚜레쥬르 75점"
   ]
  },
  {
   "cell_type": "code",
   "execution_count": 107,
   "metadata": {},
   "outputs": [
    {
     "data": {
      "text/html": [
       "<div>\n",
       "<style scoped>\n",
       "    .dataframe tbody tr th:only-of-type {\n",
       "        vertical-align: middle;\n",
       "    }\n",
       "\n",
       "    .dataframe tbody tr th {\n",
       "        vertical-align: top;\n",
       "    }\n",
       "\n",
       "    .dataframe thead th {\n",
       "        text-align: right;\n",
       "    }\n",
       "</style>\n",
       "<table border=\"1\" class=\"dataframe\">\n",
       "  <thead>\n",
       "    <tr style=\"text-align: right;\">\n",
       "      <th></th>\n",
       "      <th>영업</th>\n",
       "    </tr>\n",
       "  </thead>\n",
       "  <tbody>\n",
       "    <tr>\n",
       "      <th>파리바게뜨</th>\n",
       "      <td>11.283333</td>\n",
       "    </tr>\n",
       "    <tr>\n",
       "      <th>뚜레쥬르</th>\n",
       "      <td>8.829268</td>\n",
       "    </tr>\n",
       "  </tbody>\n",
       "</table>\n",
       "</div>"
      ],
      "text/plain": [
       "              영업\n",
       "파리바게뜨  11.283333\n",
       "뚜레쥬르    8.829268"
      ]
     },
     "execution_count": 107,
     "metadata": {},
     "output_type": "execute_result"
    }
   ],
   "source": [
    "# 설립년도가 2000년 이후이면서 영업 중인 곳의 영업기간 정보를 구한다.\n",
    "\n",
    "temp1 = paris.loc[(paris['설립년도']>=2000) & (paris['상태코드']==1), '영업기간']\n",
    "temp2 = tous.loc[(tous['설립년도']>=2000) & (tous['상태코드']==1), '영업기간']\n",
    "\n",
    "s = pd.Series([temp1.mean(), temp2.mean()], index=['파리바게뜨', '뚜레쥬르']) # 평균값\n",
    "comp = pd.DataFrame(s, columns=['영업'])\n",
    "comp"
   ]
  },
  {
   "cell_type": "code",
   "execution_count": 108,
   "metadata": {},
   "outputs": [
    {
     "data": {
      "text/html": [
       "<div>\n",
       "<style scoped>\n",
       "    .dataframe tbody tr th:only-of-type {\n",
       "        vertical-align: middle;\n",
       "    }\n",
       "\n",
       "    .dataframe tbody tr th {\n",
       "        vertical-align: top;\n",
       "    }\n",
       "\n",
       "    .dataframe thead th {\n",
       "        text-align: right;\n",
       "    }\n",
       "</style>\n",
       "<table border=\"1\" class=\"dataframe\">\n",
       "  <thead>\n",
       "    <tr style=\"text-align: right;\">\n",
       "      <th></th>\n",
       "      <th>영업</th>\n",
       "      <th>폐업</th>\n",
       "    </tr>\n",
       "  </thead>\n",
       "  <tbody>\n",
       "    <tr>\n",
       "      <th>파리바게뜨</th>\n",
       "      <td>11.283333</td>\n",
       "      <td>5.384615</td>\n",
       "    </tr>\n",
       "    <tr>\n",
       "      <th>뚜레쥬르</th>\n",
       "      <td>8.829268</td>\n",
       "      <td>6.050000</td>\n",
       "    </tr>\n",
       "  </tbody>\n",
       "</table>\n",
       "</div>"
      ],
      "text/plain": [
       "              영업        폐업\n",
       "파리바게뜨  11.283333  5.384615\n",
       "뚜레쥬르    8.829268  6.050000"
      ]
     },
     "execution_count": 108,
     "metadata": {},
     "output_type": "execute_result"
    }
   ],
   "source": [
    "# 설립년도 2000년 이후이면서 폐업한 곳의 영업기간 정보를 구한다.\n",
    "\n",
    "temp1 = paris.loc[(paris['설립년도']>=2000) & (paris['상태코드']==2), '영업기간']\n",
    "temp2 = tous.loc[(tous['설립년도']>=2000) & (tous['상태코드']==2), '영업기간']\n",
    "\n",
    "# 평균을 구해 comp에 '폐업' 컬럼으로 추가\n",
    "comp['폐업'] = [temp1.mean(), temp2.mean()]\n",
    "comp"
   ]
  },
  {
   "cell_type": "code",
   "execution_count": 109,
   "metadata": {},
   "outputs": [
    {
     "data": {
      "text/plain": [
       "(655, 9)"
      ]
     },
     "execution_count": 109,
     "metadata": {},
     "output_type": "execute_result"
    }
   ],
   "source": [
    "# 파리바게트, 뚜레쥬르가 아닌 다른 사업장을 other로 정리\n",
    "condition1 = (bread['사업장명'].str.contains('파리바게'))\n",
    "condition2 = (bread['사업장명'].str.contains('뚜레쥬르'))\n",
    "other = bread.loc[~(condition1 | condition2), :]\n",
    "\n",
    "other.shape # 655점"
   ]
  },
  {
   "cell_type": "code",
   "execution_count": 110,
   "metadata": {},
   "outputs": [
    {
     "data": {
      "text/plain": [
       "(820, 820)"
      ]
     },
     "execution_count": 110,
     "metadata": {},
     "output_type": "execute_result"
    }
   ],
   "source": [
    "bread.shape[0], paris.shape[0] + tous.shape[0] + other.shape[0] # 청주에 제과점 820점 존재확인"
   ]
  },
  {
   "cell_type": "code",
   "execution_count": 111,
   "metadata": {},
   "outputs": [
    {
     "data": {
      "text/html": [
       "<div>\n",
       "<style scoped>\n",
       "    .dataframe tbody tr th:only-of-type {\n",
       "        vertical-align: middle;\n",
       "    }\n",
       "\n",
       "    .dataframe tbody tr th {\n",
       "        vertical-align: top;\n",
       "    }\n",
       "\n",
       "    .dataframe thead th {\n",
       "        text-align: right;\n",
       "    }\n",
       "</style>\n",
       "<table border=\"1\" class=\"dataframe\">\n",
       "  <thead>\n",
       "    <tr style=\"text-align: right;\">\n",
       "      <th></th>\n",
       "      <th>영업</th>\n",
       "      <th>폐업</th>\n",
       "    </tr>\n",
       "  </thead>\n",
       "  <tbody>\n",
       "    <tr>\n",
       "      <th>파리바게뜨</th>\n",
       "      <td>11.283333</td>\n",
       "      <td>5.384615</td>\n",
       "    </tr>\n",
       "    <tr>\n",
       "      <th>뚜레쥬르</th>\n",
       "      <td>8.829268</td>\n",
       "      <td>6.050000</td>\n",
       "    </tr>\n",
       "  </tbody>\n",
       "</table>\n",
       "</div>"
      ],
      "text/plain": [
       "              영업        폐업\n",
       "파리바게뜨  11.283333  5.384615\n",
       "뚜레쥬르    8.829268  6.050000"
      ]
     },
     "execution_count": 111,
     "metadata": {},
     "output_type": "execute_result"
    }
   ],
   "source": [
    "comp"
   ]
  },
  {
   "cell_type": "code",
   "execution_count": 112,
   "metadata": {},
   "outputs": [
    {
     "data": {
      "text/html": [
       "<div>\n",
       "<style scoped>\n",
       "    .dataframe tbody tr th:only-of-type {\n",
       "        vertical-align: middle;\n",
       "    }\n",
       "\n",
       "    .dataframe tbody tr th {\n",
       "        vertical-align: top;\n",
       "    }\n",
       "\n",
       "    .dataframe thead th {\n",
       "        text-align: right;\n",
       "    }\n",
       "</style>\n",
       "<table border=\"1\" class=\"dataframe\">\n",
       "  <thead>\n",
       "    <tr style=\"text-align: right;\">\n",
       "      <th></th>\n",
       "      <th>영업</th>\n",
       "      <th>폐업</th>\n",
       "    </tr>\n",
       "  </thead>\n",
       "  <tbody>\n",
       "    <tr>\n",
       "      <th>파리바게뜨</th>\n",
       "      <td>11.283333</td>\n",
       "      <td>5.384615</td>\n",
       "    </tr>\n",
       "    <tr>\n",
       "      <th>뚜레쥬르</th>\n",
       "      <td>8.829268</td>\n",
       "      <td>6.050000</td>\n",
       "    </tr>\n",
       "    <tr>\n",
       "      <th>개인창업</th>\n",
       "      <td>6.439560</td>\n",
       "      <td>4.667656</td>\n",
       "    </tr>\n",
       "  </tbody>\n",
       "</table>\n",
       "</div>"
      ],
      "text/plain": [
       "              영업        폐업\n",
       "파리바게뜨  11.283333  5.384615\n",
       "뚜레쥬르    8.829268  6.050000\n",
       "개인창업    6.439560  4.667656"
      ]
     },
     "execution_count": 112,
     "metadata": {},
     "output_type": "execute_result"
    }
   ],
   "source": [
    "# other의 2000년 이후 설립된 곳의 영업, 폐업 사업장을 구한다.\n",
    "\n",
    "temp1 = other.loc[(other['설립년도']>=2000) & (other['상태코드']==1), '영업기간']\n",
    "temp2 = other.loc[(other['설립년도']>=2000) & (other['상태코드']==2), '영업기간']\n",
    "\n",
    "\n",
    "# 영업기간 평균을 구해 comp 에 '개인창업' 행으로 추가 append\n",
    "temp = pd.DataFrame([[temp1.mean(), temp2.mean()]], index=['개인창업'], columns=['영업', '폐업'])\n",
    "comp = comp.append(temp)\n",
    "comp"
   ]
  },
  {
   "cell_type": "code",
   "execution_count": 113,
   "metadata": {},
   "outputs": [
    {
     "data": {
      "image/png": "[encoded data removed]",
      "text/plain": [
       "<Figure size 576x288 with 1 Axes>"
      ]
     },
     "metadata": {
      "image/png": {
       "height": 267,
       "width": 482
      },
      "needs_background": "light"
     },
     "output_type": "display_data"
    }
   ],
   "source": [
    "comp.plot.bar(figsize=(8,4), rot=0 )\n",
    "plt.title('청주시 제과점 영업과 폐업 평균값 비교',fontsize=15)\n",
    "plt.xticks([0,1,2],['파리바게뜨','뚜레쥬르','개인창업'],fontsize=12)\n",
    "plt.yticks(fontsize=12)\n",
    "plt.ylim(0, 15)\n",
    "plt.show()"
   ]
  },
  {
   "cell_type": "code",
   "execution_count": 114,
   "metadata": {},
   "outputs": [
    {
     "data": {
      "text/html": [
       "<div>\n",
       "<style scoped>\n",
       "    .dataframe tbody tr th:only-of-type {\n",
       "        vertical-align: middle;\n",
       "    }\n",
       "\n",
       "    .dataframe tbody tr th {\n",
       "        vertical-align: top;\n",
       "    }\n",
       "\n",
       "    .dataframe thead th {\n",
       "        text-align: right;\n",
       "    }\n",
       "</style>\n",
       "<table border=\"1\" class=\"dataframe\">\n",
       "  <thead>\n",
       "    <tr style=\"text-align: right;\">\n",
       "      <th></th>\n",
       "      <th>구명</th>\n",
       "    </tr>\n",
       "  </thead>\n",
       "  <tbody>\n",
       "    <tr>\n",
       "      <th>흥덕구</th>\n",
       "      <td>22</td>\n",
       "    </tr>\n",
       "    <tr>\n",
       "      <th>서원구</th>\n",
       "      <td>19</td>\n",
       "    </tr>\n",
       "    <tr>\n",
       "      <th>청원구</th>\n",
       "      <td>15</td>\n",
       "    </tr>\n",
       "    <tr>\n",
       "      <th>상당구</th>\n",
       "      <td>15</td>\n",
       "    </tr>\n",
       "  </tbody>\n",
       "</table>\n",
       "</div>"
      ],
      "text/plain": [
       "     구명\n",
       "흥덕구  22\n",
       "서원구  19\n",
       "청원구  15\n",
       "상당구  15"
      ]
     },
     "execution_count": 114,
     "metadata": {},
     "output_type": "execute_result"
    }
   ],
   "source": [
    "temp = paris.loc[paris['상태코드']==1, '구명'].value_counts().to_frame()\n",
    "temp.head(4)"
   ]
  },
  {
   "cell_type": "code",
   "execution_count": 115,
   "metadata": {},
   "outputs": [
    {
     "data": {
      "text/html": [
       "<div>\n",
       "<style scoped>\n",
       "    .dataframe tbody tr th:only-of-type {\n",
       "        vertical-align: middle;\n",
       "    }\n",
       "\n",
       "    .dataframe tbody tr th {\n",
       "        vertical-align: top;\n",
       "    }\n",
       "\n",
       "    .dataframe thead th {\n",
       "        text-align: right;\n",
       "    }\n",
       "</style>\n",
       "<table border=\"1\" class=\"dataframe\">\n",
       "  <thead>\n",
       "    <tr style=\"text-align: right;\">\n",
       "      <th></th>\n",
       "      <th>index</th>\n",
       "      <th>구명</th>\n",
       "      <th>폐업</th>\n",
       "    </tr>\n",
       "  </thead>\n",
       "  <tbody>\n",
       "    <tr>\n",
       "      <th>0</th>\n",
       "      <td>흥덕구</td>\n",
       "      <td>22</td>\n",
       "      <td>3</td>\n",
       "    </tr>\n",
       "    <tr>\n",
       "      <th>1</th>\n",
       "      <td>서원구</td>\n",
       "      <td>19</td>\n",
       "      <td>7</td>\n",
       "    </tr>\n",
       "    <tr>\n",
       "      <th>2</th>\n",
       "      <td>청원구</td>\n",
       "      <td>15</td>\n",
       "      <td>4</td>\n",
       "    </tr>\n",
       "    <tr>\n",
       "      <th>3</th>\n",
       "      <td>상당구</td>\n",
       "      <td>15</td>\n",
       "      <td>5</td>\n",
       "    </tr>\n",
       "  </tbody>\n",
       "</table>\n",
       "</div>"
      ],
      "text/plain": [
       "  index  구명  폐업\n",
       "0   흥덕구  22   3\n",
       "1   서원구  19   7\n",
       "2   청원구  15   4\n",
       "3   상당구  15   5"
      ]
     },
     "execution_count": 115,
     "metadata": {},
     "output_type": "execute_result"
    }
   ],
   "source": [
    "temp['폐업'] = paris.loc[paris['상태코드']==2, '구명'].value_counts()\n",
    "temp2 = temp.reset_index()\n",
    "temp2.head(5)"
   ]
  },
  {
   "cell_type": "code",
   "execution_count": 116,
   "metadata": {},
   "outputs": [
    {
     "data": {
      "text/html": [
       "<div>\n",
       "<style scoped>\n",
       "    .dataframe tbody tr th:only-of-type {\n",
       "        vertical-align: middle;\n",
       "    }\n",
       "\n",
       "    .dataframe tbody tr th {\n",
       "        vertical-align: top;\n",
       "    }\n",
       "\n",
       "    .dataframe thead th {\n",
       "        text-align: right;\n",
       "    }\n",
       "</style>\n",
       "<table border=\"1\" class=\"dataframe\">\n",
       "  <thead>\n",
       "    <tr style=\"text-align: right;\">\n",
       "      <th></th>\n",
       "      <th>구</th>\n",
       "      <th>영업</th>\n",
       "      <th>폐업</th>\n",
       "      <th>폐업비율</th>\n",
       "    </tr>\n",
       "  </thead>\n",
       "  <tbody>\n",
       "    <tr>\n",
       "      <th>0</th>\n",
       "      <td>흥덕구</td>\n",
       "      <td>22</td>\n",
       "      <td>3</td>\n",
       "      <td>12.000000</td>\n",
       "    </tr>\n",
       "    <tr>\n",
       "      <th>1</th>\n",
       "      <td>서원구</td>\n",
       "      <td>19</td>\n",
       "      <td>7</td>\n",
       "      <td>26.923077</td>\n",
       "    </tr>\n",
       "    <tr>\n",
       "      <th>2</th>\n",
       "      <td>청원구</td>\n",
       "      <td>15</td>\n",
       "      <td>4</td>\n",
       "      <td>21.052632</td>\n",
       "    </tr>\n",
       "    <tr>\n",
       "      <th>3</th>\n",
       "      <td>상당구</td>\n",
       "      <td>15</td>\n",
       "      <td>5</td>\n",
       "      <td>25.000000</td>\n",
       "    </tr>\n",
       "  </tbody>\n",
       "</table>\n",
       "</div>"
      ],
      "text/plain": [
       "     구  영업  폐업       폐업비율\n",
       "0  흥덕구  22   3  12.000000\n",
       "1  서원구  19   7  26.923077\n",
       "2  청원구  15   4  21.052632\n",
       "3  상당구  15   5  25.000000"
      ]
     },
     "execution_count": 116,
     "metadata": {},
     "output_type": "execute_result"
    }
   ],
   "source": [
    "temp2.columns = ['구', '영업', '폐업'] #index를 구로 표기\n",
    "temp2['폐업비율'] = (temp2['폐업'] / (temp2['폐업'] + temp2['영업'])) * 100\n",
    "temp2.head(5)"
   ]
  },
  {
   "cell_type": "code",
   "execution_count": 117,
   "metadata": {},
   "outputs": [
    {
     "data": {
      "text/html": [
       "<div>\n",
       "<style scoped>\n",
       "    .dataframe tbody tr th:only-of-type {\n",
       "        vertical-align: middle;\n",
       "    }\n",
       "\n",
       "    .dataframe tbody tr th {\n",
       "        vertical-align: top;\n",
       "    }\n",
       "\n",
       "    .dataframe thead th {\n",
       "        text-align: right;\n",
       "    }\n",
       "</style>\n",
       "<table border=\"1\" class=\"dataframe\">\n",
       "  <thead>\n",
       "    <tr style=\"text-align: right;\">\n",
       "      <th></th>\n",
       "      <th>구</th>\n",
       "      <th>영업</th>\n",
       "      <th>폐업</th>\n",
       "      <th>폐업비율</th>\n",
       "    </tr>\n",
       "  </thead>\n",
       "  <tbody>\n",
       "    <tr>\n",
       "      <th>0</th>\n",
       "      <td>흥덕구</td>\n",
       "      <td>22</td>\n",
       "      <td>3</td>\n",
       "      <td>12.000000</td>\n",
       "    </tr>\n",
       "    <tr>\n",
       "      <th>2</th>\n",
       "      <td>청원구</td>\n",
       "      <td>15</td>\n",
       "      <td>4</td>\n",
       "      <td>21.052632</td>\n",
       "    </tr>\n",
       "    <tr>\n",
       "      <th>3</th>\n",
       "      <td>상당구</td>\n",
       "      <td>15</td>\n",
       "      <td>5</td>\n",
       "      <td>25.000000</td>\n",
       "    </tr>\n",
       "    <tr>\n",
       "      <th>1</th>\n",
       "      <td>서원구</td>\n",
       "      <td>19</td>\n",
       "      <td>7</td>\n",
       "      <td>26.923077</td>\n",
       "    </tr>\n",
       "  </tbody>\n",
       "</table>\n",
       "</div>"
      ],
      "text/plain": [
       "     구  영업  폐업       폐업비율\n",
       "0  흥덕구  22   3  12.000000\n",
       "2  청원구  15   4  21.052632\n",
       "3  상당구  15   5  25.000000\n",
       "1  서원구  19   7  26.923077"
      ]
     },
     "execution_count": 117,
     "metadata": {},
     "output_type": "execute_result"
    }
   ],
   "source": [
    "temp2.sort_values('폐업비율').head() # 오름차순"
   ]
  },
  {
   "cell_type": "code",
   "execution_count": 118,
   "metadata": {},
   "outputs": [
    {
     "data": {
      "image/png": "[encoded data removed]",
      "text/plain": [
       "<Figure size 576x288 with 1 Axes>"
      ]
     },
     "metadata": {
      "image/png": {
       "height": 267,
       "width": 482
      },
      "needs_background": "light"
     },
     "output_type": "display_data"
    }
   ],
   "source": [
    "temp2.plot.bar(figsize=(8,4), rot=0 )\n",
    "plt.title('청주시 파리바게뜨 폐업비율',fontsize=15)\n",
    "plt.xticks([0,1,2,3],['흥덕구','서원구','청원구','상당구'],fontsize=12)\n",
    "plt.yticks(fontsize=12)\n",
    "plt.ylim(0, 35)\n",
    "plt.show() # 흥덕구에서 제일 잘 되는중"
   ]
  },
  {
   "cell_type": "code",
   "execution_count": 119,
   "metadata": {},
   "outputs": [
    {
     "data": {
      "text/plain": [
       "복대동    30\n",
       "가경동    26\n",
       "봉명동    11\n",
       "오송읍    10\n",
       "비하동     7\n",
       "옥산면     5\n",
       "송절동     4\n",
       "강내면     3\n",
       "강서동     2\n",
       "운천동     2\n",
       "화계동     1\n",
       "신봉동     1\n",
       "석곡동     1\n",
       "Name: 동명, dtype: int64"
      ]
     },
     "execution_count": 119,
     "metadata": {},
     "output_type": "execute_result"
    }
   ],
   "source": [
    "temp = bread.loc[(bread['구명']=='흥덕구')& (bread['상태코드']==1), :]\n",
    "s = temp['동명'].value_counts()\n",
    "s"
   ]
  },
  {
   "cell_type": "code",
   "execution_count": 120,
   "metadata": {},
   "outputs": [
    {
     "data": {
      "image/png": "[encoded data removed]",
      "text/plain": [
       "<Figure size 576x288 with 1 Axes>"
      ]
     },
     "metadata": {
      "image/png": {
       "height": 267,
       "width": 482
      },
      "needs_background": "light"
     },
     "output_type": "display_data"
    }
   ],
   "source": [
    "s.plot.bar(figsize=(8,4), rot=0, color='lightblue')\n",
    "plt.title('흥덕구 제과점 현황',fontsize=15)\n",
    "plt.xticks(fontsize=12)\n",
    "plt.yticks(fontsize=12)\n",
    "plt.ylim(0, 35)\n",
    "y = s.values\n",
    "for i, v in enumerate(range(11)):\n",
    "    plt.text(v, y[i]+1, round(y[i], 1),   \n",
    "             fontsize = 10, \n",
    "             color='blue',\n",
    "             horizontalalignment='center', \n",
    "             verticalalignment='bottom')    \n",
    "\n",
    "#plt.grid()\n",
    "plt.show()"
   ]
  },
  {
   "cell_type": "code",
   "execution_count": 121,
   "metadata": {},
   "outputs": [
    {
     "data": {
      "image/png": "[encoded data removed]",
      "text/plain": [
       "<Figure size 432x288 with 1 Axes>"
      ]
     },
     "metadata": {
      "image/png": {
       "height": 249,
       "width": 249
      }
     },
     "output_type": "display_data"
    }
   ],
   "source": [
    "s.plot.pie(label='', autopct='%.1f%%')\n",
    "plt.title('흥덕구 제과점 비율',fontsize=15)\n",
    "plt.show()"
   ]
  }
 ],
 "metadata": {
  "interpreter": {
   "hash": "b3ba2566441a7c06988d0923437866b63cedc61552a5af99d1f4fb67d367b25f"
  },
  "kernelspec": {
   "display_name": "Python 3.8.8 64-bit ('base': conda)",
   "language": "python",
   "name": "python3"
  },
  "language_info": {
   "codemirror_mode": {
    "name": "ipython",
    "version": 3
   },
   "file_extension": ".py",
   "mimetype": "text/x-python",
   "name": "python",
   "nbconvert_exporter": "python",
   "pygments_lexer": "ipython3",
   "version": "3.8.8"
  },
  "orig_nbformat": 4
 },
 "nbformat": 4,
 "nbformat_minor": 2
}
